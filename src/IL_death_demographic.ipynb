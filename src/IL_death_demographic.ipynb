{
 "cells": [
  {
   "cell_type": "markdown",
   "metadata": {},
   "source": [
    "# Illinois Death Demographics"
   ]
  },
  {
   "cell_type": "code",
   "execution_count": 1,
   "metadata": {},
   "outputs": [],
   "source": [
    "import utils\n",
    "import pandas as pd\n",
    "from datetime import date\n",
    "\n",
    "%load_ext autoreload\n",
    "%autoreload 2"
   ]
  },
  {
   "cell_type": "markdown",
   "metadata": {},
   "source": [
    "### IDPH only publishes death demographics on and after 3/28, earlier entries (36 deaths) needs manual input"
   ]
  },
  {
   "cell_type": "code",
   "execution_count": 22,
   "metadata": {},
   "outputs": [
    {
     "data": {
      "text/html": [
       "<div>\n",
       "<style scoped>\n",
       "    .dataframe tbody tr th:only-of-type {\n",
       "        vertical-align: middle;\n",
       "    }\n",
       "\n",
       "    .dataframe tbody tr th {\n",
       "        vertical-align: top;\n",
       "    }\n",
       "\n",
       "    .dataframe thead th {\n",
       "        text-align: right;\n",
       "    }\n",
       "</style>\n",
       "<table border=\"1\" class=\"dataframe\">\n",
       "  <thead>\n",
       "    <tr style=\"text-align: right;\">\n",
       "      <th></th>\n",
       "      <th>Date</th>\n",
       "      <th>County</th>\n",
       "      <th>Count</th>\n",
       "      <th>Sex</th>\n",
       "      <th>Age_bracket</th>\n",
       "      <th>Reference</th>\n",
       "    </tr>\n",
       "  </thead>\n",
       "  <tbody>\n",
       "    <tr>\n",
       "      <th>0</th>\n",
       "      <td>2020-03-17</td>\n",
       "      <td>Cook</td>\n",
       "      <td>1</td>\n",
       "      <td>female</td>\n",
       "      <td>60.0</td>\n",
       "      <td>http://www.dph.illinois.gov/news/public-health...</td>\n",
       "    </tr>\n",
       "    <tr>\n",
       "      <th>1</th>\n",
       "      <td>2020-03-19</td>\n",
       "      <td>Will</td>\n",
       "      <td>1</td>\n",
       "      <td>male</td>\n",
       "      <td>40.0</td>\n",
       "      <td>http://www.dph.illinois.gov/news/public-health...</td>\n",
       "    </tr>\n",
       "    <tr>\n",
       "      <th>2</th>\n",
       "      <td>2020-03-19</td>\n",
       "      <td>Cook</td>\n",
       "      <td>1</td>\n",
       "      <td>female</td>\n",
       "      <td>80.0</td>\n",
       "      <td>http://www.dph.illinois.gov/news/public-health...</td>\n",
       "    </tr>\n",
       "    <tr>\n",
       "      <th>3</th>\n",
       "      <td>2020-03-19</td>\n",
       "      <td>Sangamon</td>\n",
       "      <td>1</td>\n",
       "      <td>female</td>\n",
       "      <td>70.0</td>\n",
       "      <td>http://www.dph.illinois.gov/news/public-health...</td>\n",
       "    </tr>\n",
       "    <tr>\n",
       "      <th>4</th>\n",
       "      <td>2020-03-20</td>\n",
       "      <td>Cook</td>\n",
       "      <td>1</td>\n",
       "      <td>female</td>\n",
       "      <td>70.0</td>\n",
       "      <td>http://www.dph.illinois.gov/news/public-health...</td>\n",
       "    </tr>\n",
       "  </tbody>\n",
       "</table>\n",
       "</div>"
      ],
      "text/plain": [
       "        Date    County  Count     Sex  Age_bracket  \\\n",
       "0 2020-03-17      Cook      1  female         60.0   \n",
       "1 2020-03-19      Will      1    male         40.0   \n",
       "2 2020-03-19      Cook      1  female         80.0   \n",
       "3 2020-03-19  Sangamon      1  female         70.0   \n",
       "4 2020-03-20      Cook      1  female         70.0   \n",
       "\n",
       "                                           Reference  \n",
       "0  http://www.dph.illinois.gov/news/public-health...  \n",
       "1  http://www.dph.illinois.gov/news/public-health...  \n",
       "2  http://www.dph.illinois.gov/news/public-health...  \n",
       "3  http://www.dph.illinois.gov/news/public-health...  \n",
       "4  http://www.dph.illinois.gov/news/public-health...  "
      ]
     },
     "execution_count": 22,
     "metadata": {},
     "output_type": "execute_result"
    }
   ],
   "source": [
    "manual_entries = utils.IL_death_demographic_early()  # check manual entries\n",
    "manual_entries.head()"
   ]
  },
  {
   "cell_type": "markdown",
   "metadata": {},
   "source": [
    "## parse_IL_death_demographic combines manual early entry and later automatic parser"
   ]
  },
  {
   "cell_type": "code",
   "execution_count": 3,
   "metadata": {},
   "outputs": [
    {
     "name": "stdout",
     "output_type": "stream",
     "text": [
      "Automatic pdb calling has been turned ON\n"
     ]
    }
   ],
   "source": [
    "%pdb on"
   ]
  },
  {
   "cell_type": "code",
   "execution_count": 12,
   "metadata": {},
   "outputs": [
    {
     "name": "stdout",
     "output_type": "stream",
     "text": [
      "2020-04-19 00:00:00  Requesting Page: 0\n",
      "2020-04-08 00:00:00  Requesting Page: 1\n",
      "2020-03-31 00:00:00  Requesting Page: 0\n"
     ]
    }
   ],
   "source": [
    "to_date = date.today()\n",
    "result = utils.parse_IL_death_demographic(pd.date_range('2020-02-01', to_date))"
   ]
  },
  {
   "cell_type": "code",
   "execution_count": 13,
   "metadata": {},
   "outputs": [
    {
     "data": {
      "text/html": [
       "<div>\n",
       "<style scoped>\n",
       "    .dataframe tbody tr th:only-of-type {\n",
       "        vertical-align: middle;\n",
       "    }\n",
       "\n",
       "    .dataframe tbody tr th {\n",
       "        vertical-align: top;\n",
       "    }\n",
       "\n",
       "    .dataframe thead th {\n",
       "        text-align: right;\n",
       "    }\n",
       "</style>\n",
       "<table border=\"1\" class=\"dataframe\">\n",
       "  <thead>\n",
       "    <tr style=\"text-align: right;\">\n",
       "      <th></th>\n",
       "      <th>Date</th>\n",
       "      <th>County</th>\n",
       "      <th>Count</th>\n",
       "      <th>Sex</th>\n",
       "      <th>Age_bracket</th>\n",
       "      <th>Reference</th>\n",
       "    </tr>\n",
       "  </thead>\n",
       "  <tbody>\n",
       "    <tr>\n",
       "      <th>20</th>\n",
       "      <td>2020-04-18</td>\n",
       "      <td>Kankakee</td>\n",
       "      <td>2</td>\n",
       "      <td>female</td>\n",
       "      <td>80</td>\n",
       "      <td>http://www.dph.illinois.gov/news/public-health...</td>\n",
       "    </tr>\n",
       "    <tr>\n",
       "      <th>19</th>\n",
       "      <td>2020-04-18</td>\n",
       "      <td>Kane</td>\n",
       "      <td>2</td>\n",
       "      <td>male</td>\n",
       "      <td>50</td>\n",
       "      <td>http://www.dph.illinois.gov/news/public-health...</td>\n",
       "    </tr>\n",
       "    <tr>\n",
       "      <th>18</th>\n",
       "      <td>2020-04-18</td>\n",
       "      <td>DuPage</td>\n",
       "      <td>1</td>\n",
       "      <td>male</td>\n",
       "      <td>unknown</td>\n",
       "      <td>http://www.dph.illinois.gov/news/public-health...</td>\n",
       "    </tr>\n",
       "    <tr>\n",
       "      <th>25</th>\n",
       "      <td>2020-04-18</td>\n",
       "      <td>Lake</td>\n",
       "      <td>1</td>\n",
       "      <td>male</td>\n",
       "      <td>90</td>\n",
       "      <td>http://www.dph.illinois.gov/news/public-health...</td>\n",
       "    </tr>\n",
       "    <tr>\n",
       "      <th>0</th>\n",
       "      <td>2020-04-18</td>\n",
       "      <td>Cook</td>\n",
       "      <td>1</td>\n",
       "      <td>male</td>\n",
       "      <td>20</td>\n",
       "      <td>http://www.dph.illinois.gov/news/public-health...</td>\n",
       "    </tr>\n",
       "  </tbody>\n",
       "</table>\n",
       "</div>"
      ],
      "text/plain": [
       "         Date    County  Count     Sex Age_bracket  \\\n",
       "20 2020-04-18  Kankakee      2  female          80   \n",
       "19 2020-04-18      Kane      2    male          50   \n",
       "18 2020-04-18    DuPage      1    male     unknown   \n",
       "25 2020-04-18      Lake      1    male          90   \n",
       "0  2020-04-18      Cook      1    male          20   \n",
       "\n",
       "                                            Reference  \n",
       "20  http://www.dph.illinois.gov/news/public-health...  \n",
       "19  http://www.dph.illinois.gov/news/public-health...  \n",
       "18  http://www.dph.illinois.gov/news/public-health...  \n",
       "25  http://www.dph.illinois.gov/news/public-health...  \n",
       "0   http://www.dph.illinois.gov/news/public-health...  "
      ]
     },
     "execution_count": 13,
     "metadata": {},
     "output_type": "execute_result"
    }
   ],
   "source": [
    "result.tail()"
   ]
  },
  {
   "cell_type": "code",
   "execution_count": 15,
   "metadata": {},
   "outputs": [],
   "source": [
    "result.to_csv('../outputs/death_demographic_' + str(to_date) + '.csv')"
   ]
  },
  {
   "cell_type": "code",
   "execution_count": 16,
   "metadata": {},
   "outputs": [],
   "source": [
    "pivot = pd.pivot_table(result, index='Age_bracket', columns='Sex', values='Count', aggfunc='sum')"
   ]
  },
  {
   "cell_type": "code",
   "execution_count": 17,
   "metadata": {},
   "outputs": [
    {
     "data": {
      "text/plain": [
       "<matplotlib.axes._subplots.AxesSubplot at 0x24577603320>"
      ]
     },
     "execution_count": 17,
     "metadata": {},
     "output_type": "execute_result"
    },
    {
     "data": {
      "image/png": "[encoded data removed]",
      "text/plain": [
       "<Figure size 720x432 with 1 Axes>"
      ]
     },
     "metadata": {
      "needs_background": "light"
     },
     "output_type": "display_data"
    }
   ],
   "source": [
    "pivot.plot.bar(stacked=True, figsize=(10, 6), grid=True, title='IL Coronavirus Death Demographics as of 4/15/2020')"
   ]
  },
  {
   "cell_type": "code",
   "execution_count": 18,
   "metadata": {},
   "outputs": [
    {
     "data": {
      "text/plain": [
       "<matplotlib.axes._subplots.AxesSubplot at 0x24577a95dd8>"
      ]
     },
     "execution_count": 18,
     "metadata": {},
     "output_type": "execute_result"
    },
    {
     "data": {
      "image/png": "[encoded data removed]",
      "text/plain": [
       "<Figure size 720x432 with 1 Axes>"
      ]
     },
     "metadata": {
      "needs_background": "light"
     },
     "output_type": "display_data"
    }
   ],
   "source": [
    "pivot_ts = pd.pivot_table(result, index='Date', values='Count', aggfunc='sum')\n",
    "pivot_ts.plot(y='Count', style='*-', grid=True, title='Daily Death Count', figsize=(10,6))"
   ]
  },
  {
   "cell_type": "markdown",
   "metadata": {},
   "source": [
    "#### Prepare for Flourish.studio"
   ]
  },
  {
   "cell_type": "code",
   "execution_count": 19,
   "metadata": {},
   "outputs": [],
   "source": [
    "total = result['Count'].sum()\n",
    "pivot = pivot.rename(columns={'female': 'female count', 'male': 'male count', 'unknown': 'unknown count'})\n",
    "pivot['female'] = pivot['female count'] / total * 100\n",
    "pivot['male'] = pivot['male count'] / total * 100\n",
    "pivot['unknown'] = pivot['unknown count'] / total * 100"
   ]
  },
  {
   "cell_type": "code",
   "execution_count": 20,
   "metadata": {},
   "outputs": [
    {
     "data": {
      "text/html": [
       "<div>\n",
       "<style scoped>\n",
       "    .dataframe tbody tr th:only-of-type {\n",
       "        vertical-align: middle;\n",
       "    }\n",
       "\n",
       "    .dataframe tbody tr th {\n",
       "        vertical-align: top;\n",
       "    }\n",
       "\n",
       "    .dataframe thead th {\n",
       "        text-align: right;\n",
       "    }\n",
       "</style>\n",
       "<table border=\"1\" class=\"dataframe\">\n",
       "  <thead>\n",
       "    <tr style=\"text-align: right;\">\n",
       "      <th>Sex</th>\n",
       "      <th>female count</th>\n",
       "      <th>male count</th>\n",
       "      <th>unknown count</th>\n",
       "      <th>female</th>\n",
       "      <th>male</th>\n",
       "      <th>unknown</th>\n",
       "    </tr>\n",
       "    <tr>\n",
       "      <th>Age_bracket</th>\n",
       "      <th></th>\n",
       "      <th></th>\n",
       "      <th></th>\n",
       "      <th></th>\n",
       "      <th></th>\n",
       "      <th></th>\n",
       "    </tr>\n",
       "  </thead>\n",
       "  <tbody>\n",
       "    <tr>\n",
       "      <th>0</th>\n",
       "      <td>NaN</td>\n",
       "      <td>NaN</td>\n",
       "      <td>1.0</td>\n",
       "      <td>NaN</td>\n",
       "      <td>NaN</td>\n",
       "      <td>0.079302</td>\n",
       "    </tr>\n",
       "    <tr>\n",
       "      <th>10</th>\n",
       "      <td>1.0</td>\n",
       "      <td>NaN</td>\n",
       "      <td>NaN</td>\n",
       "      <td>0.079302</td>\n",
       "      <td>NaN</td>\n",
       "      <td>NaN</td>\n",
       "    </tr>\n",
       "    <tr>\n",
       "      <th>20</th>\n",
       "      <td>NaN</td>\n",
       "      <td>4.0</td>\n",
       "      <td>NaN</td>\n",
       "      <td>NaN</td>\n",
       "      <td>0.317209</td>\n",
       "      <td>NaN</td>\n",
       "    </tr>\n",
       "    <tr>\n",
       "      <th>30</th>\n",
       "      <td>6.0</td>\n",
       "      <td>19.0</td>\n",
       "      <td>NaN</td>\n",
       "      <td>0.475813</td>\n",
       "      <td>1.506741</td>\n",
       "      <td>NaN</td>\n",
       "    </tr>\n",
       "    <tr>\n",
       "      <th>40</th>\n",
       "      <td>15.0</td>\n",
       "      <td>36.0</td>\n",
       "      <td>NaN</td>\n",
       "      <td>1.189532</td>\n",
       "      <td>2.854877</td>\n",
       "      <td>NaN</td>\n",
       "    </tr>\n",
       "    <tr>\n",
       "      <th>50</th>\n",
       "      <td>26.0</td>\n",
       "      <td>85.0</td>\n",
       "      <td>1.0</td>\n",
       "      <td>2.061856</td>\n",
       "      <td>6.740682</td>\n",
       "      <td>0.079302</td>\n",
       "    </tr>\n",
       "    <tr>\n",
       "      <th>60</th>\n",
       "      <td>91.0</td>\n",
       "      <td>139.0</td>\n",
       "      <td>6.0</td>\n",
       "      <td>7.216495</td>\n",
       "      <td>11.022998</td>\n",
       "      <td>0.475813</td>\n",
       "    </tr>\n",
       "    <tr>\n",
       "      <th>70</th>\n",
       "      <td>130.0</td>\n",
       "      <td>192.0</td>\n",
       "      <td>NaN</td>\n",
       "      <td>10.309278</td>\n",
       "      <td>15.226011</td>\n",
       "      <td>NaN</td>\n",
       "    </tr>\n",
       "    <tr>\n",
       "      <th>80</th>\n",
       "      <td>149.0</td>\n",
       "      <td>178.0</td>\n",
       "      <td>NaN</td>\n",
       "      <td>11.816019</td>\n",
       "      <td>14.115781</td>\n",
       "      <td>NaN</td>\n",
       "    </tr>\n",
       "    <tr>\n",
       "      <th>90</th>\n",
       "      <td>96.0</td>\n",
       "      <td>58.0</td>\n",
       "      <td>NaN</td>\n",
       "      <td>7.613006</td>\n",
       "      <td>4.599524</td>\n",
       "      <td>NaN</td>\n",
       "    </tr>\n",
       "    <tr>\n",
       "      <th>100</th>\n",
       "      <td>9.0</td>\n",
       "      <td>4.0</td>\n",
       "      <td>NaN</td>\n",
       "      <td>0.713719</td>\n",
       "      <td>0.317209</td>\n",
       "      <td>NaN</td>\n",
       "    </tr>\n",
       "    <tr>\n",
       "      <th>unknown</th>\n",
       "      <td>NaN</td>\n",
       "      <td>1.0</td>\n",
       "      <td>14.0</td>\n",
       "      <td>NaN</td>\n",
       "      <td>0.079302</td>\n",
       "      <td>1.110230</td>\n",
       "    </tr>\n",
       "  </tbody>\n",
       "</table>\n",
       "</div>"
      ],
      "text/plain": [
       "Sex          female count  male count  unknown count     female       male  \\\n",
       "Age_bracket                                                                  \n",
       "0                     NaN         NaN            1.0        NaN        NaN   \n",
       "10                    1.0         NaN            NaN   0.079302        NaN   \n",
       "20                    NaN         4.0            NaN        NaN   0.317209   \n",
       "30                    6.0        19.0            NaN   0.475813   1.506741   \n",
       "40                   15.0        36.0            NaN   1.189532   2.854877   \n",
       "50                   26.0        85.0            1.0   2.061856   6.740682   \n",
       "60                   91.0       139.0            6.0   7.216495  11.022998   \n",
       "70                  130.0       192.0            NaN  10.309278  15.226011   \n",
       "80                  149.0       178.0            NaN  11.816019  14.115781   \n",
       "90                   96.0        58.0            NaN   7.613006   4.599524   \n",
       "100                   9.0         4.0            NaN   0.713719   0.317209   \n",
       "unknown               NaN         1.0           14.0        NaN   0.079302   \n",
       "\n",
       "Sex           unknown  \n",
       "Age_bracket            \n",
       "0            0.079302  \n",
       "10                NaN  \n",
       "20                NaN  \n",
       "30                NaN  \n",
       "40                NaN  \n",
       "50           0.079302  \n",
       "60           0.475813  \n",
       "70                NaN  \n",
       "80                NaN  \n",
       "90                NaN  \n",
       "100               NaN  \n",
       "unknown      1.110230  "
      ]
     },
     "execution_count": 20,
     "metadata": {},
     "output_type": "execute_result"
    }
   ],
   "source": [
    "pivot"
   ]
  },
  {
   "cell_type": "code",
   "execution_count": 21,
   "metadata": {},
   "outputs": [],
   "source": [
    "pivot.to_csv('../outputs/death_demographic_' + str(to_date) + '_flourish.csv')"
   ]
  },
  {
   "cell_type": "code",
   "execution_count": 51,
   "metadata": {},
   "outputs": [],
   "source": [
    "import requests\n",
    "from bs4 import BeautifulSoup\n",
    "\n",
    "link = 'https://coronavirus.illinois.gov/s/county-map'\n",
    "#headers = requests.utils.default_headers()\n",
    "#headers.update({ 'User-Agent': 'Mozilla/5.0 (X11; Ubuntu; Linux x86_64; rv:52.0) Gecko/20100101 Firefox/52.0'})\n",
    "req = requests.get(link)\n",
    "soup = BeautifulSoup(req.content, 'html.parser')"
   ]
  },
  {
   "cell_type": "code",
   "execution_count": 65,
   "metadata": {},
   "outputs": [
    {
     "data": {
      "text/plain": [
       "[<script>\n",
       "     document.write('<style>');\n",
       " \tdocument.write('a.header {font-size: 20px; margin-right: 32px;}');\n",
       "     document.write('</style>');\n",
       " \n",
       "     document.write('<div class=\"header-email-line\" align=\"right\">');\n",
       " \n",
       "     document.write('<a class=header href=\"mailto:DPH.SICK@ILLINOIS.GOV\" target=\"_top\">DPH.SICK@ILLINOIS.GOV</a>');\n",
       " \tdocument.write('</div>');\n",
       " </script>,\n",
       " <script data-src=\"/jslibrary/1585773144000/canvas/CanvasRendering.js\"></script>,\n",
       " <script data-src=\"/jslibrary/1585773144000/ui-analytics-reporting/EclairNG.js\"></script>,\n",
       " <script src=\"/s/sfsites/l/%7B%22mode%22%3A%22PROD%22%2C%22app%22%3A%22siteforce%3AcommunityApp%22%2C%22fwuid%22%3A%22kHqYrsGCjDhXliyGcYtIfA%22%2C%22loaded%22%3A%7B%22APPLICATION%40markup%3A%2F%2Fsiteforce%3AcommunityApp%22%3A%22jezy9eMvUqztJqL1PQNDdA%22%7D%2C%22apce%22%3A1%2C%22apck%22%3A%22XqIkx4nyJvDxX87Zu6rF7g%22%2C%22mlr%22%3A1%2C%22pathPrefix%22%3A%22%22%2C%22dns%22%3A%22c%22%2C%22ls%22%3A1%2C%22ct%22%3A1%7D/inline.js?aura.attributes=%7B%22schema%22%3A%22Published%22%2C%22brandingSetId%22%3A%224812c588-5c10-4a59-a2b6-5ac97d3ed350%22%2C%22authenticated%22%3A%22false%22%2C%22ac%22%3A%22%22%2C%22formFactor%22%3A%22LARGE%22%2C%22publishedChangelistNum%22%3A%22236%22%2C%22viewType%22%3A%22Published%22%2C%22themeLayoutType%22%3A%22Inner%22%2C%22language%22%3A%22en_US%22%2C%22isHybrid%22%3A%22false%22%2C%22pageId%22%3A%2298efbf07-916a-45ba-9924-863449cc82c0%22%7D\"></script>,\n",
       " <script src=\"/s/sfsites/l/%7B%22mode%22%3A%22PROD%22%2C%22app%22%3A%22siteforce%3AcommunityApp%22%2C%22fwuid%22%3A%22kHqYrsGCjDhXliyGcYtIfA%22%2C%22loaded%22%3A%7B%22APPLICATION%40markup%3A%2F%2Fsiteforce%3AcommunityApp%22%3A%22jezy9eMvUqztJqL1PQNDdA%22%7D%2C%22apce%22%3A1%2C%22apck%22%3A%22XqIkx4nyJvDxX87Zu6rF7g%22%2C%22mlr%22%3A1%2C%22pathPrefix%22%3A%22%22%2C%22dns%22%3A%22c%22%2C%22ls%22%3A1%2C%22ct%22%3A1%7D/resources.js?pv=1585999354000&amp;rv=1586029220000\"></script>,\n",
       " <script src=\"/s/sfsites/auraFW/javascript/kHqYrsGCjDhXliyGcYtIfA/aura_prod_compat.js\"></script>,\n",
       " <script src=\"/s/sfsites/l/%7B%22mode%22%3A%22PROD%22%2C%22app%22%3A%22siteforce%3AcommunityApp%22%2C%22serializationVersion%22%3A%221-1.1.13-224.8-b%22%2C%22split%22%3A%22f%22%2C%22loaded%22%3A%7B%22APPLICATION%40markup%3A%2F%2Fsiteforce%3AcommunityApp%22%3A%22jezy9eMvUqztJqL1PQNDdA%22%7D%2C%22dns%22%3A%22c%22%2C%22ls%22%3A1%2C%22ct%22%3A1%7D/app.js\"></script>,\n",
       " <script src=\"/s/sfsites/l/%7B%22mode%22%3A%22PROD%22%2C%22app%22%3A%22siteforce%3AcommunityApp%22%2C%22fwuid%22%3A%22kHqYrsGCjDhXliyGcYtIfA%22%2C%22loaded%22%3A%7B%22APPLICATION%40markup%3A%2F%2Fsiteforce%3AcommunityApp%22%3A%22jezy9eMvUqztJqL1PQNDdA%22%7D%2C%22apce%22%3A1%2C%22apck%22%3A%22XqIkx4nyJvDxX87Zu6rF7g%22%2C%22mlr%22%3A1%2C%22pathPrefix%22%3A%22%22%2C%22dns%22%3A%22c%22%2C%22ls%22%3A1%2C%22ct%22%3A1%7D/bootstrap.js?aura.attributes=%7B%22schema%22%3A%22Published%22%2C%22brandingSetId%22%3A%224812c588-5c10-4a59-a2b6-5ac97d3ed350%22%2C%22authenticated%22%3A%22false%22%2C%22ac%22%3A%22%22%2C%22formFactor%22%3A%22LARGE%22%2C%22publishedChangelistNum%22%3A%22236%22%2C%22viewType%22%3A%22Published%22%2C%22themeLayoutType%22%3A%22Inner%22%2C%22language%22%3A%22en_US%22%2C%22isHybrid%22%3A%22false%22%2C%22pageId%22%3A%2298efbf07-916a-45ba-9924-863449cc82c0%22%7D\"></script>]"
      ]
     },
     "execution_count": 65,
     "metadata": {},
     "output_type": "execute_result"
    }
   ],
   "source": [
    "soup.find_all('script')"
   ]
  },
  {
   "cell_type": "code",
   "execution_count": 60,
   "metadata": {},
   "outputs": [
    {
     "data": {
      "text/plain": [
       "<script>\n",
       "    document.write('<style>');\n",
       "\tdocument.write('a.header {font-size: 20px; margin-right: 32px;}');\n",
       "    document.write('</style>');\n",
       "\n",
       "    document.write('<div class=\"header-email-line\" align=\"right\">');\n",
       "\n",
       "    document.write('<a class=header href=\"mailto:DPH.SICK@ILLINOIS.GOV\" target=\"_top\">DPH.SICK@ILLINOIS.GOV</a>');\n",
       "\tdocument.write('</div>');\n",
       "</script>"
      ]
     },
     "execution_count": 60,
     "metadata": {},
     "output_type": "execute_result"
    }
   ],
   "source": [
    "soup.script"
   ]
  },
  {
   "cell_type": "code",
   "execution_count": 19,
   "metadata": {},
   "outputs": [
    {
     "data": {
      "text/plain": [
       "[345, 0, 0, 0, 0, 0, 0, 0]"
      ]
     },
     "execution_count": 19,
     "metadata": {},
     "output_type": "execute_result"
    }
   ],
   "source": [
    "[len(l.text) for l in soup.find_all('script')]"
   ]
  },
  {
   "cell_type": "code",
   "execution_count": 34,
   "metadata": {},
   "outputs": [
    {
     "name": "stdout",
     "output_type": "stream",
     "text": [
      "False\n",
      "False\n",
      "False\n",
      "False\n",
      "False\n",
      "False\n",
      "False\n",
      "False\n"
     ]
    }
   ],
   "source": [
    "for elm in soup.find_all('script'):\n",
    "    print('Cook' in elm.text)"
   ]
  },
  {
   "cell_type": "code",
   "execution_count": 26,
   "metadata": {},
   "outputs": [
    {
     "data": {
      "text/plain": [
       "False"
      ]
     },
     "execution_count": 26,
     "metadata": {},
     "output_type": "execute_result"
    }
   ],
   "source": [
    "'Cook' in str(ll)"
   ]
  },
  {
   "cell_type": "code",
   "execution_count": 35,
   "metadata": {},
   "outputs": [
    {
     "data": {
      "text/plain": [
       "True"
      ]
     },
     "execution_count": 35,
     "metadata": {},
     "output_type": "execute_result"
    }
   ],
   "source": [
    "'ab' in 'abcd'"
   ]
  },
  {
   "cell_type": "code",
   "execution_count": null,
   "metadata": {},
   "outputs": [],
   "source": []
  }
 ],
 "metadata": {
  "kernelspec": {
   "display_name": "Python 3",
   "language": "python",
   "name": "python3"
  },
  "language_info": {
   "codemirror_mode": {
    "name": "ipython",
    "version": 3
   },
   "file_extension": ".py",
   "mimetype": "text/x-python",
   "name": "python",
   "nbconvert_exporter": "python",
   "pygments_lexer": "ipython3",
   "version": "3.6.10"
  }
 },
 "nbformat": 4,
 "nbformat_minor": 4
}
