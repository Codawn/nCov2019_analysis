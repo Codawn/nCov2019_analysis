{
 "cells": [
  {
   "cell_type": "markdown",
   "metadata": {},
   "source": [
    "# Illinois Death Demographics"
   ]
  },
  {
   "cell_type": "code",
   "execution_count": 17,
   "metadata": {},
   "outputs": [
    {
     "name": "stdout",
     "output_type": "stream",
     "text": [
      "The autoreload extension is already loaded. To reload it, use:\n",
      "  %reload_ext autoreload\n"
     ]
    }
   ],
   "source": [
    "import utils\n",
    "import pandas as pd\n",
    "from datetime import date\n",
    "\n",
    "%load_ext autoreload\n",
    "%autoreload 2"
   ]
  },
  {
   "cell_type": "markdown",
   "metadata": {},
   "source": [
    "### IDPH only publishes death demographics on and after 3/28, earlier entries (36 deaths) needs manual input"
   ]
  },
  {
   "cell_type": "code",
   "execution_count": 22,
   "metadata": {},
   "outputs": [
    {
     "data": {
      "text/html": [
       "<div>\n",
       "<style scoped>\n",
       "    .dataframe tbody tr th:only-of-type {\n",
       "        vertical-align: middle;\n",
       "    }\n",
       "\n",
       "    .dataframe tbody tr th {\n",
       "        vertical-align: top;\n",
       "    }\n",
       "\n",
       "    .dataframe thead th {\n",
       "        text-align: right;\n",
       "    }\n",
       "</style>\n",
       "<table border=\"1\" class=\"dataframe\">\n",
       "  <thead>\n",
       "    <tr style=\"text-align: right;\">\n",
       "      <th></th>\n",
       "      <th>Date</th>\n",
       "      <th>County</th>\n",
       "      <th>Count</th>\n",
       "      <th>Sex</th>\n",
       "      <th>Age_bracket</th>\n",
       "      <th>Reference</th>\n",
       "    </tr>\n",
       "  </thead>\n",
       "  <tbody>\n",
       "    <tr>\n",
       "      <th>0</th>\n",
       "      <td>2020-03-17</td>\n",
       "      <td>Cook</td>\n",
       "      <td>1</td>\n",
       "      <td>female</td>\n",
       "      <td>60.0</td>\n",
       "      <td>http://www.dph.illinois.gov/news/public-health...</td>\n",
       "    </tr>\n",
       "    <tr>\n",
       "      <th>1</th>\n",
       "      <td>2020-03-19</td>\n",
       "      <td>Will</td>\n",
       "      <td>1</td>\n",
       "      <td>male</td>\n",
       "      <td>40.0</td>\n",
       "      <td>http://www.dph.illinois.gov/news/public-health...</td>\n",
       "    </tr>\n",
       "    <tr>\n",
       "      <th>2</th>\n",
       "      <td>2020-03-19</td>\n",
       "      <td>Cook</td>\n",
       "      <td>1</td>\n",
       "      <td>female</td>\n",
       "      <td>80.0</td>\n",
       "      <td>http://www.dph.illinois.gov/news/public-health...</td>\n",
       "    </tr>\n",
       "    <tr>\n",
       "      <th>3</th>\n",
       "      <td>2020-03-19</td>\n",
       "      <td>Sangamon</td>\n",
       "      <td>1</td>\n",
       "      <td>female</td>\n",
       "      <td>70.0</td>\n",
       "      <td>http://www.dph.illinois.gov/news/public-health...</td>\n",
       "    </tr>\n",
       "    <tr>\n",
       "      <th>4</th>\n",
       "      <td>2020-03-20</td>\n",
       "      <td>Cook</td>\n",
       "      <td>1</td>\n",
       "      <td>female</td>\n",
       "      <td>70.0</td>\n",
       "      <td>http://www.dph.illinois.gov/news/public-health...</td>\n",
       "    </tr>\n",
       "  </tbody>\n",
       "</table>\n",
       "</div>"
      ],
      "text/plain": [
       "        Date    County  Count     Sex  Age_bracket  \\\n",
       "0 2020-03-17      Cook      1  female         60.0   \n",
       "1 2020-03-19      Will      1    male         40.0   \n",
       "2 2020-03-19      Cook      1  female         80.0   \n",
       "3 2020-03-19  Sangamon      1  female         70.0   \n",
       "4 2020-03-20      Cook      1  female         70.0   \n",
       "\n",
       "                                           Reference  \n",
       "0  http://www.dph.illinois.gov/news/public-health...  \n",
       "1  http://www.dph.illinois.gov/news/public-health...  \n",
       "2  http://www.dph.illinois.gov/news/public-health...  \n",
       "3  http://www.dph.illinois.gov/news/public-health...  \n",
       "4  http://www.dph.illinois.gov/news/public-health...  "
      ]
     },
     "execution_count": 22,
     "metadata": {},
     "output_type": "execute_result"
    }
   ],
   "source": [
    "manual_entries = utils.IL_death_demographic_early()  # check manual entries\n",
    "manual_entries.head()"
   ]
  },
  {
   "cell_type": "markdown",
   "metadata": {},
   "source": [
    "## parse_IL_death_demographic combines manual early entry and later automatic parser"
   ]
  },
  {
   "cell_type": "code",
   "execution_count": 3,
   "metadata": {},
   "outputs": [
    {
     "name": "stdout",
     "output_type": "stream",
     "text": [
      "Automatic pdb calling has been turned ON\n"
     ]
    }
   ],
   "source": [
    "%pdb on"
   ]
  },
  {
   "cell_type": "code",
   "execution_count": 120,
   "metadata": {},
   "outputs": [
    {
     "name": "stdout",
     "output_type": "stream",
     "text": [
      "2020-04-16 00:00:00  Requesting Page: 0\n",
      "2020-04-05 00:00:00  Requesting Page: 1\n",
      "2020-03-31 00:00:00  Requesting Page: 0\n"
     ]
    }
   ],
   "source": [
    "to_date = date.today()\n",
    "result = utils.parse_IL_death_demographic(pd.date_range('2020-02-01', to_date))"
   ]
  },
  {
   "cell_type": "code",
   "execution_count": 121,
   "metadata": {},
   "outputs": [
    {
     "data": {
      "text/html": [
       "<div>\n",
       "<style scoped>\n",
       "    .dataframe tbody tr th:only-of-type {\n",
       "        vertical-align: middle;\n",
       "    }\n",
       "\n",
       "    .dataframe tbody tr th {\n",
       "        vertical-align: top;\n",
       "    }\n",
       "\n",
       "    .dataframe thead th {\n",
       "        text-align: right;\n",
       "    }\n",
       "</style>\n",
       "<table border=\"1\" class=\"dataframe\">\n",
       "  <thead>\n",
       "    <tr style=\"text-align: right;\">\n",
       "      <th></th>\n",
       "      <th>Date</th>\n",
       "      <th>County</th>\n",
       "      <th>Count</th>\n",
       "      <th>Sex</th>\n",
       "      <th>Age_bracket</th>\n",
       "      <th>Reference</th>\n",
       "    </tr>\n",
       "  </thead>\n",
       "  <tbody>\n",
       "    <tr>\n",
       "      <th>22</th>\n",
       "      <td>2020-04-15</td>\n",
       "      <td>Macon</td>\n",
       "      <td>1</td>\n",
       "      <td>female</td>\n",
       "      <td>70</td>\n",
       "      <td>http://www.dph.illinois.gov/news/public-health...</td>\n",
       "    </tr>\n",
       "    <tr>\n",
       "      <th>21</th>\n",
       "      <td>2020-04-15</td>\n",
       "      <td>Lake</td>\n",
       "      <td>1</td>\n",
       "      <td>male</td>\n",
       "      <td>100</td>\n",
       "      <td>http://www.dph.illinois.gov/news/public-health...</td>\n",
       "    </tr>\n",
       "    <tr>\n",
       "      <th>20</th>\n",
       "      <td>2020-04-15</td>\n",
       "      <td>Lake</td>\n",
       "      <td>1</td>\n",
       "      <td>male</td>\n",
       "      <td>80</td>\n",
       "      <td>http://www.dph.illinois.gov/news/public-health...</td>\n",
       "    </tr>\n",
       "    <tr>\n",
       "      <th>18</th>\n",
       "      <td>2020-04-15</td>\n",
       "      <td>Lake</td>\n",
       "      <td>1</td>\n",
       "      <td>male</td>\n",
       "      <td>70</td>\n",
       "      <td>http://www.dph.illinois.gov/news/public-health...</td>\n",
       "    </tr>\n",
       "    <tr>\n",
       "      <th>0</th>\n",
       "      <td>2020-04-15</td>\n",
       "      <td>Cook</td>\n",
       "      <td>1</td>\n",
       "      <td>female</td>\n",
       "      <td>10</td>\n",
       "      <td>http://www.dph.illinois.gov/news/public-health...</td>\n",
       "    </tr>\n",
       "  </tbody>\n",
       "</table>\n",
       "</div>"
      ],
      "text/plain": [
       "         Date County  Count     Sex Age_bracket  \\\n",
       "22 2020-04-15  Macon      1  female          70   \n",
       "21 2020-04-15   Lake      1    male         100   \n",
       "20 2020-04-15   Lake      1    male          80   \n",
       "18 2020-04-15   Lake      1    male          70   \n",
       "0  2020-04-15   Cook      1  female          10   \n",
       "\n",
       "                                            Reference  \n",
       "22  http://www.dph.illinois.gov/news/public-health...  \n",
       "21  http://www.dph.illinois.gov/news/public-health...  \n",
       "20  http://www.dph.illinois.gov/news/public-health...  \n",
       "18  http://www.dph.illinois.gov/news/public-health...  \n",
       "0   http://www.dph.illinois.gov/news/public-health...  "
      ]
     },
     "execution_count": 121,
     "metadata": {},
     "output_type": "execute_result"
    }
   ],
   "source": [
    "result.tail()"
   ]
  },
  {
   "cell_type": "code",
   "execution_count": 123,
   "metadata": {},
   "outputs": [],
   "source": [
    "result.to_csv('../outputs/death_demographic_' + str(to_date) + '.csv')"
   ]
  },
  {
   "cell_type": "code",
   "execution_count": 124,
   "metadata": {},
   "outputs": [
    {
     "data": {
      "text/html": [
       "<div>\n",
       "<style scoped>\n",
       "    .dataframe tbody tr th:only-of-type {\n",
       "        vertical-align: middle;\n",
       "    }\n",
       "\n",
       "    .dataframe tbody tr th {\n",
       "        vertical-align: top;\n",
       "    }\n",
       "\n",
       "    .dataframe thead th {\n",
       "        text-align: right;\n",
       "    }\n",
       "</style>\n",
       "<table border=\"1\" class=\"dataframe\">\n",
       "  <thead>\n",
       "    <tr style=\"text-align: right;\">\n",
       "      <th>Sex</th>\n",
       "      <th>female</th>\n",
       "      <th>male</th>\n",
       "      <th>unknown</th>\n",
       "    </tr>\n",
       "    <tr>\n",
       "      <th>Age_bracket</th>\n",
       "      <th></th>\n",
       "      <th></th>\n",
       "      <th></th>\n",
       "    </tr>\n",
       "  </thead>\n",
       "  <tbody>\n",
       "    <tr>\n",
       "      <th>0</th>\n",
       "      <td>NaN</td>\n",
       "      <td>NaN</td>\n",
       "      <td>1.0</td>\n",
       "    </tr>\n",
       "    <tr>\n",
       "      <th>10</th>\n",
       "      <td>1.0</td>\n",
       "      <td>NaN</td>\n",
       "      <td>NaN</td>\n",
       "    </tr>\n",
       "    <tr>\n",
       "      <th>20</th>\n",
       "      <td>NaN</td>\n",
       "      <td>3.0</td>\n",
       "      <td>NaN</td>\n",
       "    </tr>\n",
       "    <tr>\n",
       "      <th>30</th>\n",
       "      <td>5.0</td>\n",
       "      <td>15.0</td>\n",
       "      <td>NaN</td>\n",
       "    </tr>\n",
       "    <tr>\n",
       "      <th>40</th>\n",
       "      <td>10.0</td>\n",
       "      <td>33.0</td>\n",
       "      <td>NaN</td>\n",
       "    </tr>\n",
       "    <tr>\n",
       "      <th>50</th>\n",
       "      <td>19.0</td>\n",
       "      <td>67.0</td>\n",
       "      <td>1.0</td>\n",
       "    </tr>\n",
       "    <tr>\n",
       "      <th>60</th>\n",
       "      <td>72.0</td>\n",
       "      <td>107.0</td>\n",
       "      <td>4.0</td>\n",
       "    </tr>\n",
       "    <tr>\n",
       "      <th>70</th>\n",
       "      <td>104.0</td>\n",
       "      <td>142.0</td>\n",
       "      <td>NaN</td>\n",
       "    </tr>\n",
       "    <tr>\n",
       "      <th>80</th>\n",
       "      <td>108.0</td>\n",
       "      <td>129.0</td>\n",
       "      <td>NaN</td>\n",
       "    </tr>\n",
       "    <tr>\n",
       "      <th>90</th>\n",
       "      <td>65.0</td>\n",
       "      <td>38.0</td>\n",
       "      <td>NaN</td>\n",
       "    </tr>\n",
       "    <tr>\n",
       "      <th>100</th>\n",
       "      <td>9.0</td>\n",
       "      <td>2.0</td>\n",
       "      <td>NaN</td>\n",
       "    </tr>\n",
       "    <tr>\n",
       "      <th>unknown</th>\n",
       "      <td>NaN</td>\n",
       "      <td>NaN</td>\n",
       "      <td>14.0</td>\n",
       "    </tr>\n",
       "  </tbody>\n",
       "</table>\n",
       "</div>"
      ],
      "text/plain": [
       "Sex          female   male  unknown\n",
       "Age_bracket                        \n",
       "0               NaN    NaN      1.0\n",
       "10              1.0    NaN      NaN\n",
       "20              NaN    3.0      NaN\n",
       "30              5.0   15.0      NaN\n",
       "40             10.0   33.0      NaN\n",
       "50             19.0   67.0      1.0\n",
       "60             72.0  107.0      4.0\n",
       "70            104.0  142.0      NaN\n",
       "80            108.0  129.0      NaN\n",
       "90             65.0   38.0      NaN\n",
       "100             9.0    2.0      NaN\n",
       "unknown         NaN    NaN     14.0"
      ]
     },
     "execution_count": 124,
     "metadata": {},
     "output_type": "execute_result"
    }
   ],
   "source": [
    "pivot = pd.pivot_table(result, index='Age_bracket', columns='Sex', values='Count', aggfunc='sum')\n",
    "pivot"
   ]
  },
  {
   "cell_type": "code",
   "execution_count": 125,
   "metadata": {},
   "outputs": [
    {
     "data": {
      "text/plain": [
       "<matplotlib.axes._subplots.AxesSubplot at 0x174f2302198>"
      ]
     },
     "execution_count": 125,
     "metadata": {},
     "output_type": "execute_result"
    },
    {
     "data": {
      "image/png": "[encoded data removed]",
      "text/plain": [
       "<Figure size 720x432 with 1 Axes>"
      ]
     },
     "metadata": {
      "needs_background": "light"
     },
     "output_type": "display_data"
    }
   ],
   "source": [
    "pivot.plot.bar(stacked=True, figsize=(10, 6), grid=True, title='IL Coronavirus Death Demographics as of 4/15/2020')"
   ]
  },
  {
   "cell_type": "markdown",
   "metadata": {},
   "source": [
    "#### Prepare for Flourish.studio"
   ]
  },
  {
   "cell_type": "code",
   "execution_count": 109,
   "metadata": {},
   "outputs": [],
   "source": [
    "total = result['Count'].sum()\n",
    "pivot = pivot.rename(columns={'female': 'female count', 'male': 'male count', 'unknown': 'unknown count'})\n",
    "pivot['female'] = pivot['female count'] / total * 100\n",
    "pivot['male'] = pivot['male count'] / total * 100\n",
    "pivot['unknown'] = pivot['unknown count'] / total * 100"
   ]
  },
  {
   "cell_type": "code",
   "execution_count": 110,
   "metadata": {},
   "outputs": [
    {
     "data": {
      "text/html": [
       "<div>\n",
       "<style scoped>\n",
       "    .dataframe tbody tr th:only-of-type {\n",
       "        vertical-align: middle;\n",
       "    }\n",
       "\n",
       "    .dataframe tbody tr th {\n",
       "        vertical-align: top;\n",
       "    }\n",
       "\n",
       "    .dataframe thead th {\n",
       "        text-align: right;\n",
       "    }\n",
       "</style>\n",
       "<table border=\"1\" class=\"dataframe\">\n",
       "  <thead>\n",
       "    <tr style=\"text-align: right;\">\n",
       "      <th>Sex</th>\n",
       "      <th>female count</th>\n",
       "      <th>male count</th>\n",
       "      <th>unknown count</th>\n",
       "      <th>female</th>\n",
       "      <th>male</th>\n",
       "      <th>unknown</th>\n",
       "    </tr>\n",
       "    <tr>\n",
       "      <th>Age_bracket</th>\n",
       "      <th></th>\n",
       "      <th></th>\n",
       "      <th></th>\n",
       "      <th></th>\n",
       "      <th></th>\n",
       "      <th></th>\n",
       "    </tr>\n",
       "  </thead>\n",
       "  <tbody>\n",
       "    <tr>\n",
       "      <th>0</th>\n",
       "      <td>NaN</td>\n",
       "      <td>NaN</td>\n",
       "      <td>1.0</td>\n",
       "      <td>NaN</td>\n",
       "      <td>NaN</td>\n",
       "      <td>0.105485</td>\n",
       "    </tr>\n",
       "    <tr>\n",
       "      <th>10</th>\n",
       "      <td>1.0</td>\n",
       "      <td>NaN</td>\n",
       "      <td>NaN</td>\n",
       "      <td>0.105485</td>\n",
       "      <td>NaN</td>\n",
       "      <td>NaN</td>\n",
       "    </tr>\n",
       "    <tr>\n",
       "      <th>20</th>\n",
       "      <td>NaN</td>\n",
       "      <td>3.0</td>\n",
       "      <td>NaN</td>\n",
       "      <td>NaN</td>\n",
       "      <td>0.316456</td>\n",
       "      <td>NaN</td>\n",
       "    </tr>\n",
       "    <tr>\n",
       "      <th>30</th>\n",
       "      <td>5.0</td>\n",
       "      <td>15.0</td>\n",
       "      <td>NaN</td>\n",
       "      <td>0.527426</td>\n",
       "      <td>1.582278</td>\n",
       "      <td>NaN</td>\n",
       "    </tr>\n",
       "    <tr>\n",
       "      <th>40</th>\n",
       "      <td>10.0</td>\n",
       "      <td>33.0</td>\n",
       "      <td>NaN</td>\n",
       "      <td>1.054852</td>\n",
       "      <td>3.481013</td>\n",
       "      <td>NaN</td>\n",
       "    </tr>\n",
       "    <tr>\n",
       "      <th>50</th>\n",
       "      <td>19.0</td>\n",
       "      <td>67.0</td>\n",
       "      <td>1.0</td>\n",
       "      <td>2.004219</td>\n",
       "      <td>7.067511</td>\n",
       "      <td>0.105485</td>\n",
       "    </tr>\n",
       "    <tr>\n",
       "      <th>60</th>\n",
       "      <td>72.0</td>\n",
       "      <td>107.0</td>\n",
       "      <td>4.0</td>\n",
       "      <td>7.594937</td>\n",
       "      <td>11.286920</td>\n",
       "      <td>0.421941</td>\n",
       "    </tr>\n",
       "    <tr>\n",
       "      <th>70</th>\n",
       "      <td>104.0</td>\n",
       "      <td>142.0</td>\n",
       "      <td>NaN</td>\n",
       "      <td>10.970464</td>\n",
       "      <td>14.978903</td>\n",
       "      <td>NaN</td>\n",
       "    </tr>\n",
       "    <tr>\n",
       "      <th>80</th>\n",
       "      <td>108.0</td>\n",
       "      <td>129.0</td>\n",
       "      <td>NaN</td>\n",
       "      <td>11.392405</td>\n",
       "      <td>13.607595</td>\n",
       "      <td>NaN</td>\n",
       "    </tr>\n",
       "    <tr>\n",
       "      <th>90</th>\n",
       "      <td>65.0</td>\n",
       "      <td>38.0</td>\n",
       "      <td>NaN</td>\n",
       "      <td>6.856540</td>\n",
       "      <td>4.008439</td>\n",
       "      <td>NaN</td>\n",
       "    </tr>\n",
       "    <tr>\n",
       "      <th>100</th>\n",
       "      <td>8.0</td>\n",
       "      <td>2.0</td>\n",
       "      <td>NaN</td>\n",
       "      <td>0.843882</td>\n",
       "      <td>0.210970</td>\n",
       "      <td>NaN</td>\n",
       "    </tr>\n",
       "    <tr>\n",
       "      <th>unknown</th>\n",
       "      <td>NaN</td>\n",
       "      <td>NaN</td>\n",
       "      <td>14.0</td>\n",
       "      <td>NaN</td>\n",
       "      <td>NaN</td>\n",
       "      <td>1.476793</td>\n",
       "    </tr>\n",
       "  </tbody>\n",
       "</table>\n",
       "</div>"
      ],
      "text/plain": [
       "Sex          female count  male count  unknown count     female       male  \\\n",
       "Age_bracket                                                                  \n",
       "0                     NaN         NaN            1.0        NaN        NaN   \n",
       "10                    1.0         NaN            NaN   0.105485        NaN   \n",
       "20                    NaN         3.0            NaN        NaN   0.316456   \n",
       "30                    5.0        15.0            NaN   0.527426   1.582278   \n",
       "40                   10.0        33.0            NaN   1.054852   3.481013   \n",
       "50                   19.0        67.0            1.0   2.004219   7.067511   \n",
       "60                   72.0       107.0            4.0   7.594937  11.286920   \n",
       "70                  104.0       142.0            NaN  10.970464  14.978903   \n",
       "80                  108.0       129.0            NaN  11.392405  13.607595   \n",
       "90                   65.0        38.0            NaN   6.856540   4.008439   \n",
       "100                   8.0         2.0            NaN   0.843882   0.210970   \n",
       "unknown               NaN         NaN           14.0        NaN        NaN   \n",
       "\n",
       "Sex           unknown  \n",
       "Age_bracket            \n",
       "0            0.105485  \n",
       "10                NaN  \n",
       "20                NaN  \n",
       "30                NaN  \n",
       "40                NaN  \n",
       "50           0.105485  \n",
       "60           0.421941  \n",
       "70                NaN  \n",
       "80                NaN  \n",
       "90                NaN  \n",
       "100               NaN  \n",
       "unknown      1.476793  "
      ]
     },
     "execution_count": 110,
     "metadata": {},
     "output_type": "execute_result"
    }
   ],
   "source": [
    "pivot"
   ]
  },
  {
   "cell_type": "code",
   "execution_count": 111,
   "metadata": {},
   "outputs": [],
   "source": [
    "pivot.to_csv('../outputs/death_demographic_' + str(to_date) + '_flourish.csv')"
   ]
  },
  {
   "cell_type": "code",
   "execution_count": 51,
   "metadata": {},
   "outputs": [],
   "source": [
    "import requests\n",
    "from bs4 import BeautifulSoup\n",
    "\n",
    "link = 'https://coronavirus.illinois.gov/s/county-map'\n",
    "#headers = requests.utils.default_headers()\n",
    "#headers.update({ 'User-Agent': 'Mozilla/5.0 (X11; Ubuntu; Linux x86_64; rv:52.0) Gecko/20100101 Firefox/52.0'})\n",
    "req = requests.get(link)\n",
    "soup = BeautifulSoup(req.content, 'html.parser')"
   ]
  },
  {
   "cell_type": "code",
   "execution_count": 65,
   "metadata": {},
   "outputs": [
    {
     "data": {
      "text/plain": [
       "[<script>\n",
       "     document.write('<style>');\n",
       " \tdocument.write('a.header {font-size: 20px; margin-right: 32px;}');\n",
       "     document.write('</style>');\n",
       " \n",
       "     document.write('<div class=\"header-email-line\" align=\"right\">');\n",
       " \n",
       "     document.write('<a class=header href=\"mailto:DPH.SICK@ILLINOIS.GOV\" target=\"_top\">DPH.SICK@ILLINOIS.GOV</a>');\n",
       " \tdocument.write('</div>');\n",
       " </script>,\n",
       " <script data-src=\"/jslibrary/1585773144000/canvas/CanvasRendering.js\"></script>,\n",
       " <script data-src=\"/jslibrary/1585773144000/ui-analytics-reporting/EclairNG.js\"></script>,\n",
       " <script src=\"/s/sfsites/l/%7B%22mode%22%3A%22PROD%22%2C%22app%22%3A%22siteforce%3AcommunityApp%22%2C%22fwuid%22%3A%22kHqYrsGCjDhXliyGcYtIfA%22%2C%22loaded%22%3A%7B%22APPLICATION%40markup%3A%2F%2Fsiteforce%3AcommunityApp%22%3A%22jezy9eMvUqztJqL1PQNDdA%22%7D%2C%22apce%22%3A1%2C%22apck%22%3A%22XqIkx4nyJvDxX87Zu6rF7g%22%2C%22mlr%22%3A1%2C%22pathPrefix%22%3A%22%22%2C%22dns%22%3A%22c%22%2C%22ls%22%3A1%2C%22ct%22%3A1%7D/inline.js?aura.attributes=%7B%22schema%22%3A%22Published%22%2C%22brandingSetId%22%3A%224812c588-5c10-4a59-a2b6-5ac97d3ed350%22%2C%22authenticated%22%3A%22false%22%2C%22ac%22%3A%22%22%2C%22formFactor%22%3A%22LARGE%22%2C%22publishedChangelistNum%22%3A%22236%22%2C%22viewType%22%3A%22Published%22%2C%22themeLayoutType%22%3A%22Inner%22%2C%22language%22%3A%22en_US%22%2C%22isHybrid%22%3A%22false%22%2C%22pageId%22%3A%2298efbf07-916a-45ba-9924-863449cc82c0%22%7D\"></script>,\n",
       " <script src=\"/s/sfsites/l/%7B%22mode%22%3A%22PROD%22%2C%22app%22%3A%22siteforce%3AcommunityApp%22%2C%22fwuid%22%3A%22kHqYrsGCjDhXliyGcYtIfA%22%2C%22loaded%22%3A%7B%22APPLICATION%40markup%3A%2F%2Fsiteforce%3AcommunityApp%22%3A%22jezy9eMvUqztJqL1PQNDdA%22%7D%2C%22apce%22%3A1%2C%22apck%22%3A%22XqIkx4nyJvDxX87Zu6rF7g%22%2C%22mlr%22%3A1%2C%22pathPrefix%22%3A%22%22%2C%22dns%22%3A%22c%22%2C%22ls%22%3A1%2C%22ct%22%3A1%7D/resources.js?pv=1585999354000&amp;rv=1586029220000\"></script>,\n",
       " <script src=\"/s/sfsites/auraFW/javascript/kHqYrsGCjDhXliyGcYtIfA/aura_prod_compat.js\"></script>,\n",
       " <script src=\"/s/sfsites/l/%7B%22mode%22%3A%22PROD%22%2C%22app%22%3A%22siteforce%3AcommunityApp%22%2C%22serializationVersion%22%3A%221-1.1.13-224.8-b%22%2C%22split%22%3A%22f%22%2C%22loaded%22%3A%7B%22APPLICATION%40markup%3A%2F%2Fsiteforce%3AcommunityApp%22%3A%22jezy9eMvUqztJqL1PQNDdA%22%7D%2C%22dns%22%3A%22c%22%2C%22ls%22%3A1%2C%22ct%22%3A1%7D/app.js\"></script>,\n",
       " <script src=\"/s/sfsites/l/%7B%22mode%22%3A%22PROD%22%2C%22app%22%3A%22siteforce%3AcommunityApp%22%2C%22fwuid%22%3A%22kHqYrsGCjDhXliyGcYtIfA%22%2C%22loaded%22%3A%7B%22APPLICATION%40markup%3A%2F%2Fsiteforce%3AcommunityApp%22%3A%22jezy9eMvUqztJqL1PQNDdA%22%7D%2C%22apce%22%3A1%2C%22apck%22%3A%22XqIkx4nyJvDxX87Zu6rF7g%22%2C%22mlr%22%3A1%2C%22pathPrefix%22%3A%22%22%2C%22dns%22%3A%22c%22%2C%22ls%22%3A1%2C%22ct%22%3A1%7D/bootstrap.js?aura.attributes=%7B%22schema%22%3A%22Published%22%2C%22brandingSetId%22%3A%224812c588-5c10-4a59-a2b6-5ac97d3ed350%22%2C%22authenticated%22%3A%22false%22%2C%22ac%22%3A%22%22%2C%22formFactor%22%3A%22LARGE%22%2C%22publishedChangelistNum%22%3A%22236%22%2C%22viewType%22%3A%22Published%22%2C%22themeLayoutType%22%3A%22Inner%22%2C%22language%22%3A%22en_US%22%2C%22isHybrid%22%3A%22false%22%2C%22pageId%22%3A%2298efbf07-916a-45ba-9924-863449cc82c0%22%7D\"></script>]"
      ]
     },
     "execution_count": 65,
     "metadata": {},
     "output_type": "execute_result"
    }
   ],
   "source": [
    "soup.find_all('script')"
   ]
  },
  {
   "cell_type": "code",
   "execution_count": 60,
   "metadata": {},
   "outputs": [
    {
     "data": {
      "text/plain": [
       "<script>\n",
       "    document.write('<style>');\n",
       "\tdocument.write('a.header {font-size: 20px; margin-right: 32px;}');\n",
       "    document.write('</style>');\n",
       "\n",
       "    document.write('<div class=\"header-email-line\" align=\"right\">');\n",
       "\n",
       "    document.write('<a class=header href=\"mailto:DPH.SICK@ILLINOIS.GOV\" target=\"_top\">DPH.SICK@ILLINOIS.GOV</a>');\n",
       "\tdocument.write('</div>');\n",
       "</script>"
      ]
     },
     "execution_count": 60,
     "metadata": {},
     "output_type": "execute_result"
    }
   ],
   "source": [
    "soup.script"
   ]
  },
  {
   "cell_type": "code",
   "execution_count": 19,
   "metadata": {},
   "outputs": [
    {
     "data": {
      "text/plain": [
       "[345, 0, 0, 0, 0, 0, 0, 0]"
      ]
     },
     "execution_count": 19,
     "metadata": {},
     "output_type": "execute_result"
    }
   ],
   "source": [
    "[len(l.text) for l in soup.find_all('script')]"
   ]
  },
  {
   "cell_type": "code",
   "execution_count": 34,
   "metadata": {},
   "outputs": [
    {
     "name": "stdout",
     "output_type": "stream",
     "text": [
      "False\n",
      "False\n",
      "False\n",
      "False\n",
      "False\n",
      "False\n",
      "False\n",
      "False\n"
     ]
    }
   ],
   "source": [
    "for elm in soup.find_all('script'):\n",
    "    print('Cook' in elm.text)"
   ]
  },
  {
   "cell_type": "code",
   "execution_count": 26,
   "metadata": {},
   "outputs": [
    {
     "data": {
      "text/plain": [
       "False"
      ]
     },
     "execution_count": 26,
     "metadata": {},
     "output_type": "execute_result"
    }
   ],
   "source": [
    "'Cook' in str(ll)"
   ]
  },
  {
   "cell_type": "code",
   "execution_count": 35,
   "metadata": {},
   "outputs": [
    {
     "data": {
      "text/plain": [
       "True"
      ]
     },
     "execution_count": 35,
     "metadata": {},
     "output_type": "execute_result"
    }
   ],
   "source": [
    "'ab' in 'abcd'"
   ]
  },
  {
   "cell_type": "code",
   "execution_count": null,
   "metadata": {},
   "outputs": [],
   "source": []
  }
 ],
 "metadata": {
  "kernelspec": {
   "display_name": "Python 3",
   "language": "python",
   "name": "python3"
  },
  "language_info": {
   "codemirror_mode": {
    "name": "ipython",
    "version": 3
   },
   "file_extension": ".py",
   "mimetype": "text/x-python",
   "name": "python",
   "nbconvert_exporter": "python",
   "pygments_lexer": "ipython3",
   "version": "3.6.10"
  }
 },
 "nbformat": 4,
 "nbformat_minor": 4
}
