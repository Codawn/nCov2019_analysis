{
 "cells": [
  {
   "cell_type": "code",
   "execution_count": 8,
   "metadata": {},
   "outputs": [
    {
     "name": "stdout",
     "output_type": "stream",
     "text": [
      "The autoreload extension is already loaded. To reload it, use:\n",
      "  %reload_ext autoreload\n"
     ]
    }
   ],
   "source": [
    "import numpy as np\n",
    "import pandas as pd\n",
    "import utils\n",
    "\n",
    "%load_ext autoreload\n",
    "%autoreload 2"
   ]
  },
  {
   "cell_type": "markdown",
   "metadata": {},
   "source": [
    "# Sensitivity, Specificity, Precision"
   ]
  },
  {
   "cell_type": "markdown",
   "metadata": {},
   "source": [
    "Sensitivity = $Pr(test=P|P) = \\frac{TP}{TP + FN}$\n",
    "\n",
    "Specificity = $Pr(test=N|N) = \\frac{TN}{TN + FP}$\n",
    "\n",
    "Precision = $Pr(P|test=P) = \\frac{TP}{TP+FP}$"
   ]
  },
  {
   "cell_type": "markdown",
   "metadata": {},
   "source": [
    "### Q1. Given a test result is positive, what's the probability that the patient is really positive?"
   ]
  },
  {
   "cell_type": "markdown",
   "metadata": {},
   "source": [
    "From the Bayesian's rule:\n",
    "\n",
    "$$Pr(P|test=P) = \\frac{Pr(test=P|P)*Pr(P)}{Pr(test=P)} = \\frac{Pr(test=P|P)*Pr(P)}{Pr(test=P|P)*Pr(P) + Pr(test=P|N)*Pr(N)}$$"
   ]
  },
  {
   "cell_type": "markdown",
   "metadata": {},
   "source": [
    "Therefore,\n",
    "$$ Pr(P|test=P) = \\frac{Sensitivity * Pr(P)}{Sensitivity * Pr(P) + (1-Specificity)*(1-Pr(P))}$$"
   ]
  },
  {
   "cell_type": "markdown",
   "metadata": {},
   "source": [
    "As of 4/21/2020, IL \"confirmed\" 33k, with population 12.67M, So the prior \n",
    "$$Pr(P)\\approx 33k/12.67M = 0.26\\% $$\n",
    "\n",
    "As of 4/24/2020, NY \"confirmed\" 271k, with population 19.45M, So the prior \n",
    "$$Pr(P)\\approx 271k/19.45M = 1.39\\% $$\n",
    "\n",
    "In the whole U.S., \"confirmed\" 827k, with population 328M, so the prior\n",
    "$$Pr(P)\\approx 827k/328M = 0.25\\% $$"
   ]
  },
  {
   "cell_type": "code",
   "execution_count": 22,
   "metadata": {},
   "outputs": [],
   "source": [
    "prior = 0.002\n",
    "sen = np.arange(0, 1, .01)  #sensitivity\n",
    "spe = np.arange(0, 1, .1)"
   ]
  },
  {
   "cell_type": "code",
   "execution_count": 9,
   "metadata": {},
   "outputs": [],
   "source": [
    "def posterior_pos(sen, spe, prior):\n",
    "    return sen*prior / (sen * prior + (1-spe) * (1 - prior))"
   ]
  },
  {
   "cell_type": "code",
   "execution_count": 25,
   "metadata": {},
   "outputs": [
    {
     "data": {
      "text/plain": [
       "0.21246006389776342"
      ]
     },
     "execution_count": 25,
     "metadata": {},
     "output_type": "execute_result"
    }
   ],
   "source": [
    "posterior_pos(.95, .95, 0.014)"
   ]
  },
  {
   "cell_type": "markdown",
   "metadata": {},
   "source": [
    "### Q2. Given a test result is negative, what's the probability that the patient is really negative?"
   ]
  },
  {
   "cell_type": "markdown",
   "metadata": {},
   "source": [
    "$$ Pr(N|test=N) = \\frac{Pr(test=N|N) * Pr(N)}{Pr(test=N)} = \\frac{Pr(test=N|N) * Pr(N)}{Pr(test=N|N) * Pr(N) + Pr(test=N|P) * Pr(P)}$$\n",
    "\n",
    "Therefore,\n",
    "\n",
    "$$ Pr(N|test=N) = \\frac{Specificity * Pr(N)}{Specificity * Pr(N) + (1-Sensitivity)*Pr(P)} $$\n"
   ]
  },
  {
   "cell_type": "code",
   "execution_count": 21,
   "metadata": {},
   "outputs": [],
   "source": [
    "def posterior_neg(sen, spe, prior):\n",
    "    return spe * (1-prior) / (spe * (1-prior) + (1-sen) * prior)"
   ]
  },
  {
   "cell_type": "code",
   "execution_count": 22,
   "metadata": {},
   "outputs": [
    {
     "data": {
      "text/plain": [
       "1.0"
      ]
     },
     "execution_count": 22,
     "metadata": {},
     "output_type": "execute_result"
    }
   ],
   "source": [
    "posterior_neg(1, .995, 0.002)"
   ]
  },
  {
   "cell_type": "code",
   "execution_count": null,
   "metadata": {},
   "outputs": [],
   "source": []
  }
 ],
 "metadata": {
  "kernelspec": {
   "display_name": "Python 3",
   "language": "python",
   "name": "python3"
  },
  "language_info": {
   "codemirror_mode": {
    "name": "ipython",
    "version": 3
   },
   "file_extension": ".py",
   "mimetype": "text/x-python",
   "name": "python",
   "nbconvert_exporter": "python",
   "pygments_lexer": "ipython3",
   "version": "3.6.10"
  }
 },
 "nbformat": 4,
 "nbformat_minor": 4
}
