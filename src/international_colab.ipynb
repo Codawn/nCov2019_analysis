{
 "cells": [
  {
   "cell_type": "code",
   "execution_count": 36,
   "metadata": {
    "colab": {
     "base_uri": "https://localhost:8080/",
     "height": 204
    },
    "colab_type": "code",
    "executionInfo": {
     "elapsed": 1410,
     "status": "ok",
     "timestamp": 1583296431609,
     "user": {
      "displayName": "jian Xu",
      "photoUrl": "",
      "userId": "02019284238930330026"
     },
     "user_tz": 360
    },
    "id": "dkIJ5orxp7Nc",
    "outputId": "9162b13a-df09-488f-8442-0f0a6c11bdbe"
   },
   "outputs": [
    {
     "name": "stdout",
     "output_type": "stream",
     "text": [
      "remote: Enumerating objects: 11, done.\u001b[K\n",
      "remote: Counting objects: 100% (11/11), done.\u001b[K\n",
      "remote: Compressing objects: 100% (5/5), done.\u001b[K\n",
      "remote: Total 8 (delta 6), reused 5 (delta 3), pack-reused 0\u001b[K\n",
      "Unpacking objects: 100% (8/8), done.\n",
      "From https://github.com/jianxu305/nCov2019_analysis\n",
      "   04283c7..43b2310  master     -> origin/master\n",
      "Updating 04283c7..43b2310\n",
      "Fast-forward\n",
      " src/utils.py | 14 \u001b[32m+++++++++++++\u001b[m\u001b[31m-\u001b[m\n",
      " 1 file changed, 13 insertions(+), 1 deletion(-)\n"
     ]
    }
   ],
   "source": [
    "! git clone https://github.com/jianxu305/nCov2019_analysis/\n",
    "#! git pull"
   ]
  },
  {
   "cell_type": "code",
   "execution_count": null,
   "metadata": {
    "colab": {},
    "colab_type": "code",
    "id": "YiCtZv8aqASf"
   },
   "outputs": [],
   "source": [
    "import sys\n",
    "import os\n",
    "os.chdir('/content/nCov2019_analysis/src')\n",
    "\n",
    "sys.path.append('/content/nCov2019_analysis/src')"
   ]
  },
  {
   "cell_type": "code",
   "execution_count": 1,
   "metadata": {
    "colab": {},
    "colab_type": "code",
    "id": "LYgkJCsgqP14"
   },
   "outputs": [],
   "source": [
    "import pandas as pd\n",
    "import numpy as np\n",
    "import matplotlib.pyplot as plt\n",
    "import utils   # some convenient functions\n",
    "import matplotlib.font_manager as mfm\n",
    "import datetime\n",
    "\n",
    "%load_ext autoreload\n",
    "%autoreload 2"
   ]
  },
  {
   "cell_type": "code",
   "execution_count": 2,
   "metadata": {
    "colab": {
     "base_uri": "https://localhost:8080/",
     "height": 68
    },
    "colab_type": "code",
    "executionInfo": {
     "elapsed": 12461,
     "status": "ok",
     "timestamp": 1583283036162,
     "user": {
      "displayName": "jian Xu",
      "photoUrl": "",
      "userId": "02019284238930330026"
     },
     "user_tz": 360
    },
    "id": "yth1KlwfslkQ",
    "outputId": "bee1fe48-4580-45e7-90d6-77eb4b383987"
   },
   "outputs": [
    {
     "name": "stdout",
     "output_type": "stream",
     "text": [
      "Last update:  2020-03-06 08:20:03.245000\n",
      "Data date range:  2020-01-24 to 2020-03-06\n",
      "Number of rows in raw data:  64634\n"
     ]
    }
   ],
   "source": [
    "dxy_raw = utils.load_chinese_data()"
   ]
  },
  {
   "cell_type": "code",
   "execution_count": 3,
   "metadata": {
    "colab": {},
    "colab_type": "code",
    "id": "mWkO9PYiswpO"
   },
   "outputs": [],
   "source": [
    "dxy_frm = utils.aggDaily(dxy_raw)"
   ]
  },
  {
   "cell_type": "code",
   "execution_count": 4,
   "metadata": {
    "colab": {},
    "colab_type": "code",
    "id": "UEKLvWIheOqI"
   },
   "outputs": [],
   "source": [
    "jhs_raw = utils.load_jhs_raw()"
   ]
  },
  {
   "cell_type": "code",
   "execution_count": 5,
   "metadata": {
    "colab": {},
    "colab_type": "code",
    "id": "ytXSdb87Of91"
   },
   "outputs": [],
   "source": [
    "jhs_frm = utils.jhs_daily(jhs_raw)"
   ]
  },
  {
   "cell_type": "code",
   "execution_count": 6,
   "metadata": {
    "colab": {
     "base_uri": "https://localhost:8080/",
     "height": 326
    },
    "colab_type": "code",
    "executionInfo": {
     "elapsed": 358,
     "status": "ok",
     "timestamp": 1583296451623,
     "user": {
      "displayName": "jian Xu",
      "photoUrl": "",
      "userId": "02019284238930330026"
     },
     "user_tz": 360
    },
    "id": "dTWZri5fOnBb",
    "outputId": "f0f0ad0a-5a32-4320-864f-01a28cd5363c"
   },
   "outputs": [
    {
     "data": {
      "text/html": [
       "<div>\n",
       "<style scoped>\n",
       "    .dataframe tbody tr th:only-of-type {\n",
       "        vertical-align: middle;\n",
       "    }\n",
       "\n",
       "    .dataframe tbody tr th {\n",
       "        vertical-align: top;\n",
       "    }\n",
       "\n",
       "    .dataframe thead th {\n",
       "        text-align: right;\n",
       "    }\n",
       "</style>\n",
       "<table border=\"1\" class=\"dataframe\">\n",
       "  <thead>\n",
       "    <tr style=\"text-align: right;\">\n",
       "      <th></th>\n",
       "      <th>province/state</th>\n",
       "      <th>country/region</th>\n",
       "      <th>Last Update</th>\n",
       "      <th>cum_confirmed</th>\n",
       "      <th>cum_dead</th>\n",
       "      <th>cum_cured</th>\n",
       "      <th>Latitude</th>\n",
       "      <th>Longitude</th>\n",
       "      <th>update_time</th>\n",
       "      <th>update_date</th>\n",
       "      <th>new_confirmed</th>\n",
       "      <th>new_dead</th>\n",
       "      <th>new_cured</th>\n",
       "    </tr>\n",
       "  </thead>\n",
       "  <tbody>\n",
       "    <tr>\n",
       "      <th>2170</th>\n",
       "      <td>Los Angeles, CA</td>\n",
       "      <td>US</td>\n",
       "      <td>2020-03-04T18:13:18</td>\n",
       "      <td>7.0</td>\n",
       "      <td>0.0</td>\n",
       "      <td>0.0</td>\n",
       "      <td>34.0522</td>\n",
       "      <td>-118.2437</td>\n",
       "      <td>2020-03-04 18:13:18</td>\n",
       "      <td>2020-03-04</td>\n",
       "      <td>6.0</td>\n",
       "      <td>0.0</td>\n",
       "      <td>0.0</td>\n",
       "    </tr>\n",
       "    <tr>\n",
       "      <th>2171</th>\n",
       "      <td>Orange County, CA</td>\n",
       "      <td>US</td>\n",
       "      <td>2020-03-04T02:13:11</td>\n",
       "      <td>3.0</td>\n",
       "      <td>0.0</td>\n",
       "      <td>0.0</td>\n",
       "      <td>33.7879</td>\n",
       "      <td>-117.8531</td>\n",
       "      <td>2020-03-04 02:13:11</td>\n",
       "      <td>2020-03-04</td>\n",
       "      <td>3.0</td>\n",
       "      <td>0.0</td>\n",
       "      <td>0.0</td>\n",
       "    </tr>\n",
       "    <tr>\n",
       "      <th>2172</th>\n",
       "      <td>Placer County, CA</td>\n",
       "      <td>US</td>\n",
       "      <td>2020-03-04T19:53:02</td>\n",
       "      <td>2.0</td>\n",
       "      <td>1.0</td>\n",
       "      <td>0.0</td>\n",
       "      <td>39.0916</td>\n",
       "      <td>-120.8039</td>\n",
       "      <td>2020-03-04 19:53:02</td>\n",
       "      <td>2020-03-04</td>\n",
       "      <td>1.0</td>\n",
       "      <td>1.0</td>\n",
       "      <td>0.0</td>\n",
       "    </tr>\n",
       "    <tr>\n",
       "      <th>2173</th>\n",
       "      <td>Snohomish County, WA</td>\n",
       "      <td>US</td>\n",
       "      <td>2020-03-04T19:53:02</td>\n",
       "      <td>8.0</td>\n",
       "      <td>1.0</td>\n",
       "      <td>0.0</td>\n",
       "      <td>48.0330</td>\n",
       "      <td>-121.8339</td>\n",
       "      <td>2020-03-04 19:53:02</td>\n",
       "      <td>2020-03-04</td>\n",
       "      <td>2.0</td>\n",
       "      <td>0.0</td>\n",
       "      <td>0.0</td>\n",
       "    </tr>\n",
       "    <tr>\n",
       "      <th>2174</th>\n",
       "      <td>Westchester County, NY</td>\n",
       "      <td>US</td>\n",
       "      <td>2020-03-04T21:23:10</td>\n",
       "      <td>10.0</td>\n",
       "      <td>0.0</td>\n",
       "      <td>0.0</td>\n",
       "      <td>41.1220</td>\n",
       "      <td>-73.7949</td>\n",
       "      <td>2020-03-04 21:23:10</td>\n",
       "      <td>2020-03-04</td>\n",
       "      <td>9.0</td>\n",
       "      <td>0.0</td>\n",
       "      <td>0.0</td>\n",
       "    </tr>\n",
       "  </tbody>\n",
       "</table>\n",
       "</div>"
      ],
      "text/plain": [
       "              province/state country/region          Last Update  \\\n",
       "2170         Los Angeles, CA             US  2020-03-04T18:13:18   \n",
       "2171       Orange County, CA             US  2020-03-04T02:13:11   \n",
       "2172       Placer County, CA             US  2020-03-04T19:53:02   \n",
       "2173    Snohomish County, WA             US  2020-03-04T19:53:02   \n",
       "2174  Westchester County, NY             US  2020-03-04T21:23:10   \n",
       "\n",
       "      cum_confirmed  cum_dead  cum_cured  Latitude  Longitude  \\\n",
       "2170            7.0       0.0        0.0   34.0522  -118.2437   \n",
       "2171            3.0       0.0        0.0   33.7879  -117.8531   \n",
       "2172            2.0       1.0        0.0   39.0916  -120.8039   \n",
       "2173            8.0       1.0        0.0   48.0330  -121.8339   \n",
       "2174           10.0       0.0        0.0   41.1220   -73.7949   \n",
       "\n",
       "             update_time update_date  new_confirmed  new_dead  new_cured  \n",
       "2170 2020-03-04 18:13:18  2020-03-04            6.0       0.0        0.0  \n",
       "2171 2020-03-04 02:13:11  2020-03-04            3.0       0.0        0.0  \n",
       "2172 2020-03-04 19:53:02  2020-03-04            1.0       1.0        0.0  \n",
       "2173 2020-03-04 19:53:02  2020-03-04            2.0       0.0        0.0  \n",
       "2174 2020-03-04 21:23:10  2020-03-04            9.0       0.0        0.0  "
      ]
     },
     "execution_count": 6,
     "metadata": {},
     "output_type": "execute_result"
    }
   ],
   "source": [
    "jhs_frm.tail()"
   ]
  },
  {
   "cell_type": "markdown",
   "metadata": {
    "colab_type": "text",
    "id": "XjiQu56eMgvQ"
   },
   "source": [
    "## 1. Sanity Check\n",
    "### 1.1 Take a Brief Look at the data"
   ]
  },
  {
   "cell_type": "code",
   "execution_count": 7,
   "metadata": {
    "colab": {
     "base_uri": "https://localhost:8080/",
     "height": 555
    },
    "colab_type": "code",
    "executionInfo": {
     "elapsed": 1379,
     "status": "ok",
     "timestamp": 1583298281495,
     "user": {
      "displayName": "jian Xu",
      "photoUrl": "",
      "userId": "02019284238930330026"
     },
     "user_tz": 360
    },
    "id": "z3cm-ThnMkVW",
    "outputId": "70816ddc-546e-4a0c-f99e-a9f52373d8fb"
   },
   "outputs": [
    {
     "data": {
      "image/png": "[encoded data removed]",
      "text/plain": [
       "<Figure size 864x576 with 3 Axes>"
      ]
     },
     "metadata": {
      "needs_background": "light"
     },
     "output_type": "display_data"
    }
   ],
   "source": [
    "fig = utils.tsplot_conf_dead_cured(jhs_frm[jhs_frm['country/region'] == 'South Korea'], \n",
    "                                   title='Confirmed, Dead, Cured within South Korea', figsize=(12, 8))"
   ]
  },
  {
   "cell_type": "markdown",
   "metadata": {
    "colab_type": "text",
    "id": "tMaiFAL8oyl2"
   },
   "source": [
    "### 1.2 Compare with Ding Xiang Yuan Chinese Data"
   ]
  },
  {
   "cell_type": "code",
   "execution_count": null,
   "metadata": {
    "colab": {},
    "colab_type": "code",
    "id": "lu49nXo6ouzt"
   },
   "outputs": [],
   "source": [
    "jhs_china = jhs_frm[jhs_frm['country/region'] == 'Mainland China'].groupby(['update_date'])[['cum_confirmed', 'cum_dead']].agg('sum')\n",
    "jhs_china = jhs_china.add_suffix('_JHS').reset_index()"
   ]
  },
  {
   "cell_type": "code",
   "execution_count": null,
   "metadata": {
    "colab": {},
    "colab_type": "code",
    "id": "TzuUpE4RQBYr"
   },
   "outputs": [],
   "source": [
    "dxy_china = dxy_frm.groupby(['update_date'])[['cum_confirmed', 'cum_dead']].agg('sum')\n",
    "dxy_china = dxy_china.add_suffix('_DXY').reset_index()"
   ]
  },
  {
   "cell_type": "code",
   "execution_count": null,
   "metadata": {
    "colab": {},
    "colab_type": "code",
    "id": "t6KcGgsJQmPO"
   },
   "outputs": [],
   "source": [
    "comp = pd.merge(jhs_china, dxy_china, on='update_date').set_index('update_date')"
   ]
  },
  {
   "cell_type": "code",
   "execution_count": 15,
   "metadata": {
    "colab": {
     "base_uri": "https://localhost:8080/",
     "height": 297
    },
    "colab_type": "code",
    "executionInfo": {
     "elapsed": 54079,
     "status": "ok",
     "timestamp": 1583283078094,
     "user": {
      "displayName": "jian Xu",
      "photoUrl": "",
      "userId": "02019284238930330026"
     },
     "user_tz": 360
    },
    "id": "beJmI-mzXHnG",
    "outputId": "383a3613-d299-4501-989f-57948e98526a"
   },
   "outputs": [
    {
     "data": {
      "text/plain": [
       "<matplotlib.axes._subplots.AxesSubplot at 0x7f01a3247c88>"
      ]
     },
     "execution_count": 15,
     "metadata": {
      "tags": []
     },
     "output_type": "execute_result"
    },
    {
     "data": {
      "image/png": "[encoded data removed]",
      "text/plain": [
       "<Figure size 432x288 with 1 Axes>"
      ]
     },
     "metadata": {
      "tags": []
     },
     "output_type": "display_data"
    }
   ],
   "source": [
    "comp.plot(y=['cum_confirmed_DXY', 'cum_confirmed_JHS'], marker='*', grid=True)"
   ]
  },
  {
   "cell_type": "code",
   "execution_count": 16,
   "metadata": {
    "colab": {
     "base_uri": "https://localhost:8080/",
     "height": 297
    },
    "colab_type": "code",
    "executionInfo": {
     "elapsed": 54460,
     "status": "ok",
     "timestamp": 1583283078494,
     "user": {
      "displayName": "jian Xu",
      "photoUrl": "",
      "userId": "02019284238930330026"
     },
     "user_tz": 360
    },
    "id": "cWZHFBpGXrAi",
    "outputId": "6d26f433-d1b2-4f91-a1e2-0b6b5d98bbbc"
   },
   "outputs": [
    {
     "data": {
      "text/plain": [
       "<matplotlib.axes._subplots.AxesSubplot at 0x7f01a31c4a90>"
      ]
     },
     "execution_count": 16,
     "metadata": {
      "tags": []
     },
     "output_type": "execute_result"
    },
    {
     "data": {
      "image/png": "[encoded data removed]",
      "text/plain": [
       "<Figure size 432x288 with 1 Axes>"
      ]
     },
     "metadata": {
      "tags": []
     },
     "output_type": "display_data"
    }
   ],
   "source": [
    "comp.plot(y=['cum_dead_DXY', 'cum_dead_JHS'], marker='*', grid=True)"
   ]
  },
  {
   "cell_type": "markdown",
   "metadata": {
    "colab_type": "text",
    "id": "2sFu8Jp5NIG2"
   },
   "source": [
    "## 2. Mortality Rate vs Confirmed Count"
   ]
  },
  {
   "cell_type": "code",
   "execution_count": null,
   "metadata": {
    "colab": {},
    "colab_type": "code",
    "id": "4OefTkNUvQ4t"
   },
   "outputs": [],
   "source": [
    "import plotly.express as px\n",
    "import chart_studio\n",
    "import chart_studio.plotly as py\n",
    "import plotly.graph_objects as go\n",
    "import plotly.io as pio"
   ]
  },
  {
   "cell_type": "code",
   "execution_count": null,
   "metadata": {
    "colab": {},
    "colab_type": "code",
    "id": "qYwdMHItYi4B"
   },
   "outputs": [],
   "source": [
    "api_key  = ''  # use you own key\n",
    "user_name = ''  # use your own user name\n",
    "chart_studio.tools.set_credentials_file(username=user_name, api_key=api_key)"
   ]
  },
  {
   "cell_type": "code",
   "execution_count": 6,
   "metadata": {
    "colab": {},
    "colab_type": "code",
    "id": "0UyNzX7WdOi4"
   },
   "outputs": [],
   "source": [
    "# most international data only has country info, so do not drill down to finer level now\n",
    "country_frm = jhs_frm.groupby(['country/region', 'update_date']).agg('sum')  "
   ]
  },
  {
   "cell_type": "markdown",
   "metadata": {
    "colab_type": "text",
    "id": "Qa48ptEoBIZp"
   },
   "source": [
    "### Remove Some Data Problem\n",
    "Japan and US has some dates with negative new_confirm"
   ]
  },
  {
   "cell_type": "code",
   "execution_count": 7,
   "metadata": {
    "colab": {
     "base_uri": "https://localhost:8080/",
     "height": 162
    },
    "colab_type": "code",
    "executionInfo": {
     "elapsed": 368,
     "status": "ok",
     "timestamp": 1583296462774,
     "user": {
      "displayName": "jian Xu",
      "photoUrl": "",
      "userId": "02019284238930330026"
     },
     "user_tz": 360
    },
    "id": "jqkIWY7iA_YU",
    "outputId": "e12fb9d0-3f5e-4128-8243-4bc4f5bfb36d"
   },
   "outputs": [
    {
     "data": {
      "text/html": [
       "<div>\n",
       "<style scoped>\n",
       "    .dataframe tbody tr th:only-of-type {\n",
       "        vertical-align: middle;\n",
       "    }\n",
       "\n",
       "    .dataframe tbody tr th {\n",
       "        vertical-align: top;\n",
       "    }\n",
       "\n",
       "    .dataframe thead th {\n",
       "        text-align: right;\n",
       "    }\n",
       "</style>\n",
       "<table border=\"1\" class=\"dataframe\">\n",
       "  <thead>\n",
       "    <tr style=\"text-align: right;\">\n",
       "      <th></th>\n",
       "      <th></th>\n",
       "      <th>cum_confirmed</th>\n",
       "      <th>cum_dead</th>\n",
       "      <th>cum_cured</th>\n",
       "      <th>Latitude</th>\n",
       "      <th>Longitude</th>\n",
       "      <th>new_confirmed</th>\n",
       "      <th>new_dead</th>\n",
       "      <th>new_cured</th>\n",
       "    </tr>\n",
       "    <tr>\n",
       "      <th>country/region</th>\n",
       "      <th>update_date</th>\n",
       "      <th></th>\n",
       "      <th></th>\n",
       "      <th></th>\n",
       "      <th></th>\n",
       "      <th></th>\n",
       "      <th></th>\n",
       "      <th></th>\n",
       "      <th></th>\n",
       "    </tr>\n",
       "  </thead>\n",
       "  <tbody>\n",
       "    <tr>\n",
       "      <th rowspan=\"2\" valign=\"top\">Japan</th>\n",
       "      <th>2020-01-23</th>\n",
       "      <td>1.0</td>\n",
       "      <td>0.0</td>\n",
       "      <td>0.0</td>\n",
       "      <td>0.0</td>\n",
       "      <td>0.0</td>\n",
       "      <td>-1.0</td>\n",
       "      <td>0.0</td>\n",
       "      <td>0.0</td>\n",
       "    </tr>\n",
       "    <tr>\n",
       "      <th>2020-02-07</th>\n",
       "      <td>25.0</td>\n",
       "      <td>0.0</td>\n",
       "      <td>1.0</td>\n",
       "      <td>0.0</td>\n",
       "      <td>0.0</td>\n",
       "      <td>-20.0</td>\n",
       "      <td>0.0</td>\n",
       "      <td>0.0</td>\n",
       "    </tr>\n",
       "  </tbody>\n",
       "</table>\n",
       "</div>"
      ],
      "text/plain": [
       "                            cum_confirmed  cum_dead  cum_cured  Latitude  \\\n",
       "country/region update_date                                                 \n",
       "Japan          2020-01-23             1.0       0.0        0.0       0.0   \n",
       "               2020-02-07            25.0       0.0        1.0       0.0   \n",
       "\n",
       "                            Longitude  new_confirmed  new_dead  new_cured  \n",
       "country/region update_date                                                 \n",
       "Japan          2020-01-23         0.0           -1.0       0.0        0.0  \n",
       "               2020-02-07         0.0          -20.0       0.0        0.0  "
      ]
     },
     "execution_count": 7,
     "metadata": {},
     "output_type": "execute_result"
    }
   ],
   "source": [
    "country_frm[country_frm['new_confirmed'] < 0]"
   ]
  },
  {
   "cell_type": "code",
   "execution_count": 8,
   "metadata": {
    "colab": {},
    "colab_type": "code",
    "id": "7oPc6od1f15U"
   },
   "outputs": [],
   "source": [
    "country_frm['new_confirmed'] = np.maximum(0, country_frm['new_confirmed'])   # Japan 1/23, 2/7, US 2/24 have new confirmed < 0, looks like data error"
   ]
  },
  {
   "cell_type": "markdown",
   "metadata": {
    "colab_type": "text",
    "id": "lab92pyKBh7D"
   },
   "source": [
    "### Add Mortality Rate, Moving Average, etc"
   ]
  },
  {
   "cell_type": "code",
   "execution_count": 9,
   "metadata": {},
   "outputs": [],
   "source": [
    "country_frm['mortality_rate'] = country_frm['cum_dead'] / country_frm['cum_confirmed']"
   ]
  },
  {
   "cell_type": "code",
   "execution_count": 11,
   "metadata": {},
   "outputs": [],
   "source": [
    "country_frm = utils.add_moving_average(country_frm, ['country/region'], win_size=3)"
   ]
  },
  {
   "cell_type": "code",
   "execution_count": 13,
   "metadata": {
    "colab": {},
    "colab_type": "code",
    "id": "fen9OlCfhp2C"
   },
   "outputs": [],
   "source": [
    "# The next two columns are mainly for plot rendering\n",
    "color_countries = ['Mainland China', 'Japan', 'South Korea', 'Iran', 'Italy', 'Germany', \n",
    "                   'US', 'France', 'Spain', 'Diamond Princess']\n",
    "country_frm['color'] = np.where(country_frm.index.get_level_values('country/region').isin(color_countries), \n",
    "                                country_frm.index.get_level_values('country/region'), \n",
    "                                'Other')"
   ]
  },
  {
   "cell_type": "code",
   "execution_count": 14,
   "metadata": {
    "colab": {},
    "colab_type": "code",
    "id": "N3wGcaciJkaH"
   },
   "outputs": [],
   "source": [
    "country_ex_china = country_frm[country_frm.index.get_level_values('country/region') != 'Mainland China']"
   ]
  },
  {
   "cell_type": "code",
   "execution_count": 16,
   "metadata": {
    "colab": {
     "base_uri": "https://localhost:8080/",
     "height": 607
    },
    "colab_type": "code",
    "executionInfo": {
     "elapsed": 888,
     "status": "ok",
     "timestamp": 1583298360190,
     "user": {
      "displayName": "jian Xu",
      "photoUrl": "",
      "userId": "02019284238930330026"
     },
     "user_tz": 360
    },
    "id": "-MJWr8js6QL9",
    "outputId": "9deac3fe-8c41-4f76-81df-0b86fc32b6e3"
   },
   "outputs": [
    {
     "data": {
      "image/png": "[encoded data removed]",
      "text/plain": [
       "<Figure size 936x720 with 1 Axes>"
      ]
     },
     "metadata": {
      "needs_background": "light"
     },
     "output_type": "display_data"
    }
   ],
   "source": [
    "fig = utils.cross_sectional_bar(country_ex_china.reset_index(), '2020-03-04', 'cum_confirmed', 'country/region', 10,\n",
    "                                title='Top 10 contry/region with the most confirmed cases outside Mainland China')"
   ]
  },
  {
   "cell_type": "code",
   "execution_count": 47,
   "metadata": {
    "colab": {
     "base_uri": "https://localhost:8080/",
     "height": 542
    },
    "colab_type": "code",
    "executionInfo": {
     "elapsed": 795,
     "status": "ok",
     "timestamp": 1583296493743,
     "user": {
      "displayName": "jian Xu",
      "photoUrl": "",
      "userId": "02019284238930330026"
     },
     "user_tz": 360
    },
    "id": "XDNY6GZ9crP3",
    "outputId": "8f2da4de-e5bf-4d97-d58e-33f902823202"
   },
   "outputs": [
    {
     "data": {
      "text/html": [
       "<html>\n",
       "<head><meta charset=\"utf-8\" /></head>\n",
       "<body>\n",
       "    <div>\n",
       "            <script src=\"https://cdnjs.cloudflare.com/ajax/libs/mathjax/2.7.5/MathJax.js?config=TeX-AMS-MML_SVG\"></script><script type=\"text/javascript\">if (window.MathJax) {MathJax.Hub.Config({SVG: {font: \"STIX-Web\"}});}</script>\n",
       "                <script type=\"text/javascript\">window.PlotlyConfig = {MathJaxConfig: 'local'};</script>\n",
       "        <script src=\"https://cdn.plot.ly/plotly-latest.min.js\"></script>    \n",
       "            <div id=\"88ba394c-401c-4386-99a9-e609a70c8498\" class=\"plotly-graph-div\" style=\"height:525px; width:100%;\"></div>\n",
       "            <script type=\"text/javascript\">\n",
       "                \n",
       "                    window.PLOTLYENV=window.PLOTLYENV || {};\n",
       "                    \n",
       "                if (document.getElementById(\"88ba394c-401c-4386-99a9-e609a70c8498\")) {\n",
       "                    Plotly.newPlot(\n",
       "                        '88ba394c-401c-4386-99a9-e609a70c8498',\n",
       "                        [{\"customdata\": [[\"Algeria\", 0.0, 3.0, 2.0, 0.0], [\"Andorra\", 0.0, 1.0, 1.0, 0.0], [\"Australia\", 0.0, 10.0, 3.0, 0.0], [\"Austria\", 0.0, 18.0, 4.0, 0.0], [\"Bahrain\", 0.0, 49.0, 2.0, 0.0], [\"Belgium\", 0.0, 8.0, 6.0, 0.0], [\"Canada\", 0.0, 17.0, 3.0, 0.0], [\"Czech Republic\", 0.0, 3.0, 0.0, 0.0], [\"Dominican Republic\", 0.0, 1.0, 0.0, 0.0], [\"Hong Kong\", 2.0, 100.0, 4.0, 0.0], [\"Iceland\", 0.0, 6.0, 3.0, 0.0], [\"India\", 0.0, 5.0, 2.0, 0.0], [\"Indonesia\", 0.0, 2.0, 2.0, 0.0], [\"Iraq\", 0.0, 26.0, 7.0, 0.0], [\"Kuwait\", 0.0, 56.0, 11.0, 0.0], [\"Latvia\", 0.0, 1.0, 1.0, 0.0], [\"Lebanon\", 0.0, 13.0, 3.0, 0.0], [\"Morocco\", 0.0, 1.0, 1.0, 0.0], [\"Netherlands\", 0.0, 18.0, 8.0, 0.0], [\"Norway\", 0.0, 25.0, 6.0, 0.0], [\"Portugal\", 0.0, 2.0, 2.0, 0.0], [\"Russia\", 0.0, 3.0, 1.0, 0.0], [\"San Marino\", 0.0, 8.0, 7.0, 0.0], [\"Saudi Arabia\", 0.0, 1.0, 1.0, 0.0], [\"Senegal\", 0.0, 1.0, 1.0, 0.0], [\"Singapore\", 0.0, 108.0, 2.0, 0.0], [\"Sweden\", 0.0, 15.0, 1.0, 0.0], [\"Switzerland\", 0.0, 42.0, 15.0, 0.0], [\"Taiwan\", 1.0, 41.0, 1.0, 0.0], [\"Thailand\", 1.0, 43.0, 1.0, 0.0], [\"UK\", 0.0, 40.0, 4.0, 0.0]], \"hoverlabel\": {\"namelength\": 0}, \"hovertemplate\": \"color=Other<br>cum_confirmed=%{customdata[2]}<br>mortality_rate=%{y}<br>new_confirmed_logMA=%{marker.size}<br>country/region=%{customdata[0]}<br>cum_dead=%{customdata[1]}<br>new_confirmed=%{customdata[3]}<br>new_dead=%{customdata[4]}\", \"legendgroup\": \"color=Other\", \"marker\": {\"color\": \"#636efa\", \"size\": [0.5440680443502757, 0.47712125471966244, 0.6368220975871743, 0.8450980400142568, 0.8016323462331665, 0.6368220975871743, 0.8016323462331665, 0.5440680443502757, 0.3979400086720376, 0.6020599913279624, 0.5642714304385626, 0.4259687322722811, 0.6020599913279624, 0.9208187539523751, 1.0791812460476249, 0.47712125471966244, 0.7533276666586115, 0.47712125471966244, 0.8846065812979305, 0.9208187539523751, 0.6020599913279624, 0.47712125471966244, 0.6690067809585756, 0.47712125471966244, 0.47712125471966244, 0.8450980400142568, 0.6690067809585756, 1.1249387366083, 0.6368220975871743, 0.4259687322722811, 0.9378520932511556], \"sizemode\": \"area\", \"sizeref\": 0.007061941156188864, \"symbol\": \"circle\"}, \"mode\": \"markers\", \"name\": \"color=Other\", \"showlegend\": true, \"type\": \"scatter\", \"x\": [3.0, 1.0, 10.0, 18.0, 49.0, 8.0, 17.0, 3.0, 1.0, 100.0, 6.0, 5.0, 2.0, 26.0, 56.0, 1.0, 13.0, 1.0, 18.0, 25.0, 2.0, 3.0, 8.0, 1.0, 1.0, 108.0, 15.0, 42.0, 41.0, 43.0, 40.0], \"xaxis\": \"x\", \"y\": [0.0, 0.0, 0.0, 0.0, 0.0, 0.0, 0.0, 0.0, 0.0, 0.02, 0.0, 0.0, 0.0, 0.0, 0.0, 0.0, 0.0, 0.0, 0.0, 0.0, 0.0, 0.0, 0.0, 0.0, 0.0, 0.0, 0.0, 0.0, 0.024390243902439025, 0.023255813953488372, 0.0], \"yaxis\": \"y\"}, {\"customdata\": [[\"Diamond Princess\", 6.0, 705.0, 0.0, 0.0]], \"hoverlabel\": {\"namelength\": 0}, \"hovertemplate\": \"color=Diamond Princess<br>cum_confirmed=%{customdata[2]}<br>mortality_rate=%{y}<br>new_confirmed_logMA=%{marker.size}<br>country/region=%{customdata[0]}<br>cum_dead=%{customdata[1]}<br>new_confirmed=%{customdata[3]}<br>new_dead=%{customdata[4]}\", \"legendgroup\": \"color=Diamond Princess\", \"marker\": {\"color\": \"#EF553B\", \"size\": [0.3010299956639812], \"sizemode\": \"area\", \"sizeref\": 0.007061941156188864, \"symbol\": \"circle\"}, \"mode\": \"markers\", \"name\": \"color=Diamond Princess\", \"showlegend\": true, \"type\": \"scatter\", \"x\": [705.0], \"xaxis\": \"x\", \"y\": [0.00851063829787234], \"yaxis\": \"y\"}, {\"customdata\": [[\"France\", 3.0, 191.0, 61.0, 1.0]], \"hoverlabel\": {\"namelength\": 0}, \"hovertemplate\": \"color=France<br>cum_confirmed=%{customdata[2]}<br>mortality_rate=%{y}<br>new_confirmed_logMA=%{marker.size}<br>country/region=%{customdata[0]}<br>cum_dead=%{customdata[1]}<br>new_confirmed=%{customdata[3]}<br>new_dead=%{customdata[4]}\", \"legendgroup\": \"color=France\", \"marker\": {\"color\": \"#00cc96\", \"size\": [1.6690067809585756], \"sizemode\": \"area\", \"sizeref\": 0.007061941156188864, \"symbol\": \"circle\"}, \"mode\": \"markers\", \"name\": \"color=France\", \"showlegend\": true, \"type\": \"scatter\", \"x\": [191.0], \"xaxis\": \"x\", \"y\": [0.015706806282722512], \"yaxis\": \"y\"}, {\"customdata\": [[\"Germany\", 0.0, 159.0, 29.0, 0.0]], \"hoverlabel\": {\"namelength\": 0}, \"hovertemplate\": \"color=Germany<br>cum_confirmed=%{customdata[2]}<br>mortality_rate=%{y}<br>new_confirmed_logMA=%{marker.size}<br>country/region=%{customdata[0]}<br>cum_dead=%{customdata[1]}<br>new_confirmed=%{customdata[3]}<br>new_dead=%{customdata[4]}\", \"legendgroup\": \"color=Germany\", \"marker\": {\"color\": \"#ab63fa\", \"size\": [1.591064607026499], \"sizemode\": \"area\", \"sizeref\": 0.007061941156188864, \"symbol\": \"circle\"}, \"mode\": \"markers\", \"name\": \"color=Germany\", \"showlegend\": true, \"type\": \"scatter\", \"x\": [159.0], \"xaxis\": \"x\", \"y\": [0.0], \"yaxis\": \"y\"}, {\"customdata\": [[\"Iran\", 66.0, 1501.0, 523.0, 12.0]], \"hoverlabel\": {\"namelength\": 0}, \"hovertemplate\": \"color=Iran<br>cum_confirmed=%{customdata[2]}<br>mortality_rate=%{y}<br>new_confirmed_logMA=%{marker.size}<br>country/region=%{customdata[0]}<br>cum_dead=%{customdata[1]}<br>new_confirmed=%{customdata[3]}<br>new_dead=%{customdata[4]}\", \"legendgroup\": \"color=Iran\", \"marker\": {\"color\": \"#FFA15A\", \"size\": [2.571708831808688], \"sizemode\": \"area\", \"sizeref\": 0.007061941156188864, \"symbol\": \"circle\"}, \"mode\": \"markers\", \"name\": \"color=Iran\", \"showlegend\": true, \"type\": \"scatter\", \"x\": [1501.0], \"xaxis\": \"x\", \"y\": [0.04397068620919387], \"yaxis\": \"y\"}, {\"customdata\": [[\"Italy\", 52.0, 2036.0, 342.0, 18.0]], \"hoverlabel\": {\"namelength\": 0}, \"hovertemplate\": \"color=Italy<br>cum_confirmed=%{customdata[2]}<br>mortality_rate=%{y}<br>new_confirmed_logMA=%{marker.size}<br>country/region=%{customdata[0]}<br>cum_dead=%{customdata[1]}<br>new_confirmed=%{customdata[3]}<br>new_dead=%{customdata[4]}\", \"legendgroup\": \"color=Italy\", \"marker\": {\"color\": \"#19d3f3\", \"size\": [2.58508455410005], \"sizemode\": \"area\", \"sizeref\": 0.007061941156188864, \"symbol\": \"circle\"}, \"mode\": \"markers\", \"name\": \"color=Italy\", \"showlegend\": true, \"type\": \"scatter\", \"x\": [2036.0], \"xaxis\": \"x\", \"y\": [0.025540275049115914], \"yaxis\": \"y\"}, {\"customdata\": [[\"Japan\", 6.0, 274.0, 18.0, 0.0]], \"hoverlabel\": {\"namelength\": 0}, \"hovertemplate\": \"color=Japan<br>cum_confirmed=%{customdata[2]}<br>mortality_rate=%{y}<br>new_confirmed_logMA=%{marker.size}<br>country/region=%{customdata[0]}<br>cum_dead=%{customdata[1]}<br>new_confirmed=%{customdata[3]}<br>new_dead=%{customdata[4]}\", \"legendgroup\": \"color=Japan\", \"marker\": {\"color\": \"#FF6692\", \"size\": [1.2388820889151368], \"sizemode\": \"area\", \"sizeref\": 0.007061941156188864, \"symbol\": \"circle\"}, \"mode\": \"markers\", \"name\": \"color=Japan\", \"showlegend\": true, \"type\": \"scatter\", \"x\": [274.0], \"xaxis\": \"x\", \"y\": [0.021897810218978103], \"yaxis\": \"y\"}, {\"customdata\": [[\"South Korea\", 28.0, 4335.0, 599.0, 11.0]], \"hoverlabel\": {\"namelength\": 0}, \"hovertemplate\": \"color=South Korea<br>cum_confirmed=%{customdata[2]}<br>mortality_rate=%{y}<br>new_confirmed_logMA=%{marker.size}<br>country/region=%{customdata[0]}<br>cum_dead=%{customdata[1]}<br>new_confirmed=%{customdata[3]}<br>new_dead=%{customdata[4]}\", \"legendgroup\": \"color=South Korea\", \"marker\": {\"color\": \"#B6E880\", \"size\": [2.824776462475546], \"sizemode\": \"area\", \"sizeref\": 0.007061941156188864, \"symbol\": \"circle\"}, \"mode\": \"markers\", \"name\": \"color=South Korea\", \"showlegend\": true, \"type\": \"scatter\", \"x\": [4335.0], \"xaxis\": \"x\", \"y\": [0.006459054209919262], \"yaxis\": \"y\"}, {\"customdata\": [[\"Spain\", 0.0, 120.0, 36.0, 0.0]], \"hoverlabel\": {\"namelength\": 0}, \"hovertemplate\": \"color=Spain<br>cum_confirmed=%{customdata[2]}<br>mortality_rate=%{y}<br>new_confirmed_logMA=%{marker.size}<br>country/region=%{customdata[0]}<br>cum_dead=%{customdata[1]}<br>new_confirmed=%{customdata[3]}<br>new_dead=%{customdata[4]}\", \"legendgroup\": \"color=Spain\", \"marker\": {\"color\": \"#FF97FF\", \"size\": [1.4960065988800362], \"sizemode\": \"area\", \"sizeref\": 0.007061941156188864, \"symbol\": \"circle\"}, \"mode\": \"markers\", \"name\": \"color=Spain\", \"showlegend\": true, \"type\": \"scatter\", \"x\": [120.0], \"xaxis\": \"x\", \"y\": [0.0], \"yaxis\": \"y\"}, {\"customdata\": [[\"US\", 6.0, 88.0, 37.0, 6.0]], \"hoverlabel\": {\"namelength\": 0}, \"hovertemplate\": \"color=US<br>cum_confirmed=%{customdata[2]}<br>mortality_rate=%{y}<br>new_confirmed_logMA=%{marker.size}<br>country/region=%{customdata[0]}<br>cum_dead=%{customdata[1]}<br>new_confirmed=%{customdata[3]}<br>new_dead=%{customdata[4]}\", \"legendgroup\": \"color=US\", \"marker\": {\"color\": \"#FECB52\", \"size\": [1.2787536009528289], \"sizemode\": \"area\", \"sizeref\": 0.007061941156188864, \"symbol\": \"circle\"}, \"mode\": \"markers\", \"name\": \"color=US\", \"showlegend\": true, \"type\": \"scatter\", \"x\": [88.0], \"xaxis\": \"x\", \"y\": [0.06818181818181818], \"yaxis\": \"y\"}],\n",
       "                        {\"legend\": {\"itemsizing\": \"constant\", \"tracegroupgap\": 0}, \"template\": {\"data\": {\"bar\": [{\"error_x\": {\"color\": \"#2a3f5f\"}, \"error_y\": {\"color\": \"#2a3f5f\"}, \"marker\": {\"line\": {\"color\": \"#E5ECF6\", \"width\": 0.5}}, \"type\": \"bar\"}], \"barpolar\": [{\"marker\": {\"line\": {\"color\": \"#E5ECF6\", \"width\": 0.5}}, \"type\": \"barpolar\"}], \"carpet\": [{\"aaxis\": {\"endlinecolor\": \"#2a3f5f\", \"gridcolor\": \"white\", \"linecolor\": \"white\", \"minorgridcolor\": \"white\", \"startlinecolor\": \"#2a3f5f\"}, \"baxis\": {\"endlinecolor\": \"#2a3f5f\", \"gridcolor\": \"white\", \"linecolor\": \"white\", \"minorgridcolor\": \"white\", \"startlinecolor\": \"#2a3f5f\"}, \"type\": \"carpet\"}], \"choropleth\": [{\"colorbar\": {\"outlinewidth\": 0, \"ticks\": \"\"}, \"type\": \"choropleth\"}], \"contour\": [{\"colorbar\": {\"outlinewidth\": 0, \"ticks\": \"\"}, \"colorscale\": [[0.0, \"#0d0887\"], [0.1111111111111111, \"#46039f\"], [0.2222222222222222, \"#7201a8\"], [0.3333333333333333, \"#9c179e\"], [0.4444444444444444, \"#bd3786\"], [0.5555555555555556, \"#d8576b\"], [0.6666666666666666, \"#ed7953\"], [0.7777777777777778, \"#fb9f3a\"], [0.8888888888888888, \"#fdca26\"], [1.0, \"#f0f921\"]], \"type\": \"contour\"}], \"contourcarpet\": [{\"colorbar\": {\"outlinewidth\": 0, \"ticks\": \"\"}, \"type\": \"contourcarpet\"}], \"heatmap\": [{\"colorbar\": {\"outlinewidth\": 0, \"ticks\": \"\"}, \"colorscale\": [[0.0, \"#0d0887\"], [0.1111111111111111, \"#46039f\"], [0.2222222222222222, \"#7201a8\"], [0.3333333333333333, \"#9c179e\"], [0.4444444444444444, \"#bd3786\"], [0.5555555555555556, \"#d8576b\"], [0.6666666666666666, \"#ed7953\"], [0.7777777777777778, \"#fb9f3a\"], [0.8888888888888888, \"#fdca26\"], [1.0, \"#f0f921\"]], \"type\": \"heatmap\"}], \"heatmapgl\": [{\"colorbar\": {\"outlinewidth\": 0, \"ticks\": \"\"}, \"colorscale\": [[0.0, \"#0d0887\"], [0.1111111111111111, \"#46039f\"], [0.2222222222222222, \"#7201a8\"], [0.3333333333333333, \"#9c179e\"], [0.4444444444444444, \"#bd3786\"], [0.5555555555555556, \"#d8576b\"], [0.6666666666666666, \"#ed7953\"], [0.7777777777777778, \"#fb9f3a\"], [0.8888888888888888, \"#fdca26\"], [1.0, \"#f0f921\"]], \"type\": \"heatmapgl\"}], \"histogram\": [{\"marker\": {\"colorbar\": {\"outlinewidth\": 0, \"ticks\": \"\"}}, \"type\": \"histogram\"}], \"histogram2d\": [{\"colorbar\": {\"outlinewidth\": 0, \"ticks\": \"\"}, \"colorscale\": [[0.0, \"#0d0887\"], [0.1111111111111111, \"#46039f\"], [0.2222222222222222, \"#7201a8\"], [0.3333333333333333, \"#9c179e\"], [0.4444444444444444, \"#bd3786\"], [0.5555555555555556, \"#d8576b\"], [0.6666666666666666, \"#ed7953\"], [0.7777777777777778, \"#fb9f3a\"], [0.8888888888888888, \"#fdca26\"], [1.0, \"#f0f921\"]], \"type\": \"histogram2d\"}], \"histogram2dcontour\": [{\"colorbar\": {\"outlinewidth\": 0, \"ticks\": \"\"}, \"colorscale\": [[0.0, \"#0d0887\"], [0.1111111111111111, \"#46039f\"], [0.2222222222222222, \"#7201a8\"], [0.3333333333333333, \"#9c179e\"], [0.4444444444444444, \"#bd3786\"], [0.5555555555555556, \"#d8576b\"], [0.6666666666666666, \"#ed7953\"], [0.7777777777777778, \"#fb9f3a\"], [0.8888888888888888, \"#fdca26\"], [1.0, \"#f0f921\"]], \"type\": \"histogram2dcontour\"}], \"mesh3d\": [{\"colorbar\": {\"outlinewidth\": 0, \"ticks\": \"\"}, \"type\": \"mesh3d\"}], \"parcoords\": [{\"line\": {\"colorbar\": {\"outlinewidth\": 0, \"ticks\": \"\"}}, \"type\": \"parcoords\"}], \"pie\": [{\"automargin\": true, \"type\": \"pie\"}], \"scatter\": [{\"marker\": {\"colorbar\": {\"outlinewidth\": 0, \"ticks\": \"\"}}, \"type\": \"scatter\"}], \"scatter3d\": [{\"line\": {\"colorbar\": {\"outlinewidth\": 0, \"ticks\": \"\"}}, \"marker\": {\"colorbar\": {\"outlinewidth\": 0, \"ticks\": \"\"}}, \"type\": \"scatter3d\"}], \"scattercarpet\": [{\"marker\": {\"colorbar\": {\"outlinewidth\": 0, \"ticks\": \"\"}}, \"type\": \"scattercarpet\"}], \"scattergeo\": [{\"marker\": {\"colorbar\": {\"outlinewidth\": 0, \"ticks\": \"\"}}, \"type\": \"scattergeo\"}], \"scattergl\": [{\"marker\": {\"colorbar\": {\"outlinewidth\": 0, \"ticks\": \"\"}}, \"type\": \"scattergl\"}], \"scattermapbox\": [{\"marker\": {\"colorbar\": {\"outlinewidth\": 0, \"ticks\": \"\"}}, \"type\": \"scattermapbox\"}], \"scatterpolar\": [{\"marker\": {\"colorbar\": {\"outlinewidth\": 0, \"ticks\": \"\"}}, \"type\": \"scatterpolar\"}], \"scatterpolargl\": [{\"marker\": {\"colorbar\": {\"outlinewidth\": 0, \"ticks\": \"\"}}, \"type\": \"scatterpolargl\"}], \"scatterternary\": [{\"marker\": {\"colorbar\": {\"outlinewidth\": 0, \"ticks\": \"\"}}, \"type\": \"scatterternary\"}], \"surface\": [{\"colorbar\": {\"outlinewidth\": 0, \"ticks\": \"\"}, \"colorscale\": [[0.0, \"#0d0887\"], [0.1111111111111111, \"#46039f\"], [0.2222222222222222, \"#7201a8\"], [0.3333333333333333, \"#9c179e\"], [0.4444444444444444, \"#bd3786\"], [0.5555555555555556, \"#d8576b\"], [0.6666666666666666, \"#ed7953\"], [0.7777777777777778, \"#fb9f3a\"], [0.8888888888888888, \"#fdca26\"], [1.0, \"#f0f921\"]], \"type\": \"surface\"}], \"table\": [{\"cells\": {\"fill\": {\"color\": \"#EBF0F8\"}, \"line\": {\"color\": \"white\"}}, \"header\": {\"fill\": {\"color\": \"#C8D4E3\"}, \"line\": {\"color\": \"white\"}}, \"type\": \"table\"}]}, \"layout\": {\"annotationdefaults\": {\"arrowcolor\": \"#2a3f5f\", \"arrowhead\": 0, \"arrowwidth\": 1}, \"coloraxis\": {\"colorbar\": {\"outlinewidth\": 0, \"ticks\": \"\"}}, \"colorscale\": {\"diverging\": [[0, \"#8e0152\"], [0.1, \"#c51b7d\"], [0.2, \"#de77ae\"], [0.3, \"#f1b6da\"], [0.4, \"#fde0ef\"], [0.5, \"#f7f7f7\"], [0.6, \"#e6f5d0\"], [0.7, \"#b8e186\"], [0.8, \"#7fbc41\"], [0.9, \"#4d9221\"], [1, \"#276419\"]], \"sequential\": [[0.0, \"#0d0887\"], [0.1111111111111111, \"#46039f\"], [0.2222222222222222, \"#7201a8\"], [0.3333333333333333, \"#9c179e\"], [0.4444444444444444, \"#bd3786\"], [0.5555555555555556, \"#d8576b\"], [0.6666666666666666, \"#ed7953\"], [0.7777777777777778, \"#fb9f3a\"], [0.8888888888888888, \"#fdca26\"], [1.0, \"#f0f921\"]], \"sequentialminus\": [[0.0, \"#0d0887\"], [0.1111111111111111, \"#46039f\"], [0.2222222222222222, \"#7201a8\"], [0.3333333333333333, \"#9c179e\"], [0.4444444444444444, \"#bd3786\"], [0.5555555555555556, \"#d8576b\"], [0.6666666666666666, \"#ed7953\"], [0.7777777777777778, \"#fb9f3a\"], [0.8888888888888888, \"#fdca26\"], [1.0, \"#f0f921\"]]}, \"colorway\": [\"#636efa\", \"#EF553B\", \"#00cc96\", \"#ab63fa\", \"#FFA15A\", \"#19d3f3\", \"#FF6692\", \"#B6E880\", \"#FF97FF\", \"#FECB52\"], \"font\": {\"color\": \"#2a3f5f\"}, \"geo\": {\"bgcolor\": \"white\", \"lakecolor\": \"white\", \"landcolor\": \"#E5ECF6\", \"showlakes\": true, \"showland\": true, \"subunitcolor\": \"white\"}, \"hoverlabel\": {\"align\": \"left\"}, \"hovermode\": \"closest\", \"mapbox\": {\"style\": \"light\"}, \"paper_bgcolor\": \"white\", \"plot_bgcolor\": \"#E5ECF6\", \"polar\": {\"angularaxis\": {\"gridcolor\": \"white\", \"linecolor\": \"white\", \"ticks\": \"\"}, \"bgcolor\": \"#E5ECF6\", \"radialaxis\": {\"gridcolor\": \"white\", \"linecolor\": \"white\", \"ticks\": \"\"}}, \"scene\": {\"xaxis\": {\"backgroundcolor\": \"#E5ECF6\", \"gridcolor\": \"white\", \"gridwidth\": 2, \"linecolor\": \"white\", \"showbackground\": true, \"ticks\": \"\", \"zerolinecolor\": \"white\"}, \"yaxis\": {\"backgroundcolor\": \"#E5ECF6\", \"gridcolor\": \"white\", \"gridwidth\": 2, \"linecolor\": \"white\", \"showbackground\": true, \"ticks\": \"\", \"zerolinecolor\": \"white\"}, \"zaxis\": {\"backgroundcolor\": \"#E5ECF6\", \"gridcolor\": \"white\", \"gridwidth\": 2, \"linecolor\": \"white\", \"showbackground\": true, \"ticks\": \"\", \"zerolinecolor\": \"white\"}}, \"shapedefaults\": {\"line\": {\"color\": \"#2a3f5f\"}}, \"ternary\": {\"aaxis\": {\"gridcolor\": \"white\", \"linecolor\": \"white\", \"ticks\": \"\"}, \"baxis\": {\"gridcolor\": \"white\", \"linecolor\": \"white\", \"ticks\": \"\"}, \"bgcolor\": \"#E5ECF6\", \"caxis\": {\"gridcolor\": \"white\", \"linecolor\": \"white\", \"ticks\": \"\"}}, \"title\": {\"x\": 0.05}, \"xaxis\": {\"automargin\": true, \"gridcolor\": \"white\", \"linecolor\": \"white\", \"ticks\": \"\", \"title\": {\"standoff\": 15}, \"zerolinecolor\": \"white\", \"zerolinewidth\": 2}, \"yaxis\": {\"automargin\": true, \"gridcolor\": \"white\", \"linecolor\": \"white\", \"ticks\": \"\", \"title\": {\"standoff\": 15}, \"zerolinecolor\": \"white\", \"zerolinewidth\": 2}}}, \"title\": {\"text\": \"Mortality Rate vs Confirmed by Country/Region as of 2020-03-02\"}, \"xaxis\": {\"anchor\": \"y\", \"domain\": [0.0, 1.0], \"title\": {\"text\": \"Confirmed Count\"}, \"type\": \"log\"}, \"yaxis\": {\"anchor\": \"x\", \"domain\": [0.0, 1.0], \"tickformat\": \",.1%\", \"title\": {\"text\": \"Mortality Rate\"}}},\n",
       "                        {\"responsive\": true}\n",
       "                    ).then(function(){\n",
       "                            \n",
       "var gd = document.getElementById('88ba394c-401c-4386-99a9-e609a70c8498');\n",
       "var x = new MutationObserver(function (mutations, observer) {{\n",
       "        var display = window.getComputedStyle(gd).display;\n",
       "        if (!display || display === 'none') {{\n",
       "            console.log([gd, 'removed!']);\n",
       "            Plotly.purge(gd);\n",
       "            observer.disconnect();\n",
       "        }}\n",
       "}});\n",
       "\n",
       "// Listen for the removal of the full notebook cells\n",
       "var notebookContainer = gd.closest('#notebook-container');\n",
       "if (notebookContainer) {{\n",
       "    x.observe(notebookContainer, {childList: true});\n",
       "}}\n",
       "\n",
       "// Listen for the clearing of the current output cell\n",
       "var outputEl = gd.closest('.output');\n",
       "if (outputEl) {{\n",
       "    x.observe(outputEl, {childList: true});\n",
       "}}\n",
       "\n",
       "                        })\n",
       "                };\n",
       "                \n",
       "            </script>\n",
       "        </div>\n",
       "</body>\n",
       "</html>"
      ]
     },
     "metadata": {
      "tags": []
     },
     "output_type": "display_data"
    }
   ],
   "source": [
    "date = datetime.date(2020, 3, 2)\n",
    "fig = px.scatter(country_ex_china.loc[(slice(None), date), :].reset_index(),\n",
    "                 x='cum_confirmed', \n",
    "                 y='mortality_rate',  \n",
    "                 size='new_confirmed_logMA', \n",
    "                 color='color',\n",
    "                 #color_continuous_scale=px.colors.sequential.Jet,\n",
    "                 hover_data=['country/region', 'cum_dead', 'cum_confirmed', 'new_confirmed', 'new_dead'],\n",
    "                 title='Mortality Rate vs Confirmed by Country/Region as of ' + str(date))\n",
    "fig.update_layout(xaxis_type=\"log\", xaxis_title='Confirmed Count', yaxis_title='Mortality Rate')\n",
    "fig.layout.yaxis.tickformat = ',.1%'  # set display to % format\n",
    "fig.show()"
   ]
  },
  {
   "cell_type": "code",
   "execution_count": null,
   "metadata": {
    "colab": {},
    "colab_type": "code",
    "id": "YMVTki9CUzUW"
   },
   "outputs": [],
   "source": [
    "pio.write_html(fig, file='index.html', auto_open=True)"
   ]
  }
 ],
 "metadata": {
  "colab": {
   "authorship_tag": "ABX9TyPukmtAyJkRqlZDFMcbGFIh",
   "collapsed_sections": [
    "XjiQu56eMgvQ"
   ],
   "name": "international_colab.ipynb",
   "provenance": [
    {
     "file_id": "https://github.com/jianxu305/DXY-2019-nCoV-Data/blob/master/death_rate_colab.ipynb",
     "timestamp": 1582921394997
    }
   ],
   "toc_visible": true
  },
  "kernelspec": {
   "display_name": "Python 3",
   "language": "python",
   "name": "python3"
  },
  "language_info": {
   "codemirror_mode": {
    "name": "ipython",
    "version": 3
   },
   "file_extension": ".py",
   "mimetype": "text/x-python",
   "name": "python",
   "nbconvert_exporter": "python",
   "pygments_lexer": "ipython3",
   "version": "3.6.7"
  }
 },
 "nbformat": 4,
 "nbformat_minor": 4
}
